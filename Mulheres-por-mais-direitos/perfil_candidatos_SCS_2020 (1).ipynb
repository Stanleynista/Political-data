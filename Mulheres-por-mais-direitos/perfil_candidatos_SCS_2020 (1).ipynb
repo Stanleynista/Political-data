{
  "nbformat": 4,
  "nbformat_minor": 0,
  "metadata": {
    "colab": {
      "name": "perfil_candidatos_SCS_2020.ipynb",
      "provenance": [],
      "toc_visible": true
    },
    "kernelspec": {
      "display_name": "Python 3",
      "language": "python",
      "name": "python3"
    },
    "language_info": {
      "codemirror_mode": {
        "name": "ipython",
        "version": 3
      },
      "file_extension": ".py",
      "mimetype": "text/x-python",
      "name": "python",
      "nbconvert_exporter": "python",
      "pygments_lexer": "ipython3",
      "version": "3.7.6"
    }
  },
  "cells": [
    {
      "cell_type": "markdown",
      "metadata": {
        "id": "GhHSdFBHSXXG"
      },
      "source": [
        "# Importando Bibliotecas \n",
        "\n",
        "\n",
        "\n",
        "---\n",
        "\n",
        "\n",
        "Iremos importar as bibliotecas necessárias para a análise exploratória de alguns dados eleitorais dos anos de 2018 e 2020\n",
        "\n"
      ]
    },
    {
      "cell_type": "code",
      "metadata": {
        "id": "eF9SD0Kqrf3r"
      },
      "source": [
        "import pandas as pd\n",
        "import seaborn as sns"
      ],
      "execution_count": null,
      "outputs": []
    },
    {
      "cell_type": "code",
      "metadata": {
        "id": "1BbsbxBHF3J5"
      },
      "source": [
        "sns.set()"
      ],
      "execution_count": null,
      "outputs": []
    },
    {
      "cell_type": "markdown",
      "metadata": {
        "id": "M4WFjGUoUWpO"
      },
      "source": [
        "# Importando o dataset do perfil candidatos do Estado de SP em 2020\n",
        "\n",
        "\n",
        "\n",
        "---\n",
        "\n",
        "Estou importando a primeira base onde irei fazer uma análise exploratória dos candidatos do Estado de São Paulo\n",
        "\n"
      ]
    },
    {
      "cell_type": "code",
      "metadata": {
        "id": "9HVsPllHF8rM"
      },
      "source": [
        "cand_SP_2020 = pd.read_csv('/content/drive/My Drive/consulta_cand_2020_SP.csv', \";\" , encoding= 'iso-8859-1')"
      ],
      "execution_count": null,
      "outputs": []
    },
    {
      "cell_type": "markdown",
      "metadata": {
        "id": "rYMOhMpoUtNu"
      },
      "source": [
        "# Conhecendo o dataset\n",
        "\n",
        "---\n",
        "\n",
        "\n",
        "\n",
        "Um exemplo de como é a base de dados dos candidatos"
      ]
    },
    {
      "cell_type": "code",
      "metadata": {
        "colab": {
          "base_uri": "https://localhost:8080/",
          "height": 428
        },
        "id": "n2lyJ8IkK687",
        "outputId": "8310b284-e901-4db9-8a9d-6a8f4f1d8ff6"
      },
      "source": [
        "# Criando um sample com 5 registros\n",
        "\n",
        "cand_SP_2020.sample(5)"
      ],
      "execution_count": null,
      "outputs": [
        {
          "output_type": "execute_result",
          "data": {
            "text/html": [
              "<div>\n",
              "<style scoped>\n",
              "    .dataframe tbody tr th:only-of-type {\n",
              "        vertical-align: middle;\n",
              "    }\n",
              "\n",
              "    .dataframe tbody tr th {\n",
              "        vertical-align: top;\n",
              "    }\n",
              "\n",
              "    .dataframe thead th {\n",
              "        text-align: right;\n",
              "    }\n",
              "</style>\n",
              "<table border=\"1\" class=\"dataframe\">\n",
              "  <thead>\n",
              "    <tr style=\"text-align: right;\">\n",
              "      <th></th>\n",
              "      <th>DT_GERACAO</th>\n",
              "      <th>HH_GERACAO</th>\n",
              "      <th>ANO_ELEICAO</th>\n",
              "      <th>CD_TIPO_ELEICAO</th>\n",
              "      <th>NM_TIPO_ELEICAO</th>\n",
              "      <th>NR_TURNO</th>\n",
              "      <th>CD_ELEICAO</th>\n",
              "      <th>DS_ELEICAO</th>\n",
              "      <th>DT_ELEICAO</th>\n",
              "      <th>TP_ABRANGENCIA</th>\n",
              "      <th>SG_UF</th>\n",
              "      <th>SG_UE</th>\n",
              "      <th>NM_UE</th>\n",
              "      <th>CD_CARGO</th>\n",
              "      <th>DS_CARGO</th>\n",
              "      <th>SQ_CANDIDATO</th>\n",
              "      <th>NR_CANDIDATO</th>\n",
              "      <th>NM_CANDIDATO</th>\n",
              "      <th>NM_URNA_CANDIDATO</th>\n",
              "      <th>NM_SOCIAL_CANDIDATO</th>\n",
              "      <th>NR_CPF_CANDIDATO</th>\n",
              "      <th>NM_EMAIL</th>\n",
              "      <th>CD_SITUACAO_CANDIDATURA</th>\n",
              "      <th>DS_SITUACAO_CANDIDATURA</th>\n",
              "      <th>CD_DETALHE_SITUACAO_CAND</th>\n",
              "      <th>DS_DETALHE_SITUACAO_CAND</th>\n",
              "      <th>TP_AGREMIACAO</th>\n",
              "      <th>NR_PARTIDO</th>\n",
              "      <th>SG_PARTIDO</th>\n",
              "      <th>NM_PARTIDO</th>\n",
              "      <th>SQ_COLIGACAO</th>\n",
              "      <th>NM_COLIGACAO</th>\n",
              "      <th>DS_COMPOSICAO_COLIGACAO</th>\n",
              "      <th>CD_NACIONALIDADE</th>\n",
              "      <th>DS_NACIONALIDADE</th>\n",
              "      <th>SG_UF_NASCIMENTO</th>\n",
              "      <th>CD_MUNICIPIO_NASCIMENTO</th>\n",
              "      <th>NM_MUNICIPIO_NASCIMENTO</th>\n",
              "      <th>DT_NASCIMENTO</th>\n",
              "      <th>NR_IDADE_DATA_POSSE</th>\n",
              "      <th>NR_TITULO_ELEITORAL_CANDIDATO</th>\n",
              "      <th>CD_GENERO</th>\n",
              "      <th>DS_GENERO</th>\n",
              "      <th>CD_GRAU_INSTRUCAO</th>\n",
              "      <th>DS_GRAU_INSTRUCAO</th>\n",
              "      <th>CD_ESTADO_CIVIL</th>\n",
              "      <th>DS_ESTADO_CIVIL</th>\n",
              "      <th>CD_COR_RACA</th>\n",
              "      <th>DS_COR_RACA</th>\n",
              "      <th>CD_OCUPACAO</th>\n",
              "      <th>DS_OCUPACAO</th>\n",
              "      <th>VR_DESPESA_MAX_CAMPANHA</th>\n",
              "      <th>CD_SIT_TOT_TURNO</th>\n",
              "      <th>DS_SIT_TOT_TURNO</th>\n",
              "      <th>ST_REELEICAO</th>\n",
              "      <th>ST_DECLARAR_BENS</th>\n",
              "      <th>NR_PROTOCOLO_CANDIDATURA</th>\n",
              "      <th>NR_PROCESSO</th>\n",
              "      <th>CD_SITUACAO_CANDIDATO_PLEITO</th>\n",
              "      <th>DS_SITUACAO_CANDIDATO_PLEITO</th>\n",
              "      <th>CD_SITUACAO_CANDIDATO_URNA</th>\n",
              "      <th>DS_SITUACAO_CANDIDATO_URNA</th>\n",
              "      <th>ST_CANDIDATO_INSERIDO_URNA</th>\n",
              "    </tr>\n",
              "  </thead>\n",
              "  <tbody>\n",
              "    <tr>\n",
              "      <th>36022</th>\n",
              "      <td>05/10/2020</td>\n",
              "      <td>12:29:54</td>\n",
              "      <td>2020</td>\n",
              "      <td>2</td>\n",
              "      <td>ELEIÇÃO ORDINÁRIA</td>\n",
              "      <td>1</td>\n",
              "      <td>426</td>\n",
              "      <td>Eleições Municipais 2020</td>\n",
              "      <td>15/11/2020</td>\n",
              "      <td>MUNICIPAL</td>\n",
              "      <td>SP</td>\n",
              "      <td>64351</td>\n",
              "      <td>GARÇA</td>\n",
              "      <td>12</td>\n",
              "      <td>VICE-PREFEITO</td>\n",
              "      <td>250000641627</td>\n",
              "      <td>45</td>\n",
              "      <td>PEDRO HENRIQUE SCARTEZINI</td>\n",
              "      <td>PEDRO SCARTEZINI</td>\n",
              "      <td>#NULO#</td>\n",
              "      <td>71193243815</td>\n",
              "      <td>PEDROHSCARTEZINI@HOTMAIL.COM</td>\n",
              "      <td>1</td>\n",
              "      <td>CADASTRADO</td>\n",
              "      <td>8</td>\n",
              "      <td>AGUARDANDO JULGAMENTO</td>\n",
              "      <td>COLIGAÇÃO</td>\n",
              "      <td>28</td>\n",
              "      <td>PRTB</td>\n",
              "      <td>PARTIDO RENOVADOR TRABALHISTA BRASILEIRO</td>\n",
              "      <td>250000056353</td>\n",
              "      <td>GARÇA FORTE E HUMANIZADA</td>\n",
              "      <td>CIDADANIA / PRTB / PSDB</td>\n",
              "      <td>1</td>\n",
              "      <td>BRASILEIRA NATA</td>\n",
              "      <td>SP</td>\n",
              "      <td>-3</td>\n",
              "      <td>GARÇA</td>\n",
              "      <td>03/12/1953</td>\n",
              "      <td>67</td>\n",
              "      <td>52448330191</td>\n",
              "      <td>2</td>\n",
              "      <td>MASCULINO</td>\n",
              "      <td>8</td>\n",
              "      <td>SUPERIOR COMPLETO</td>\n",
              "      <td>3</td>\n",
              "      <td>CASADO(A)</td>\n",
              "      <td>1</td>\n",
              "      <td>BRANCA</td>\n",
              "      <td>923</td>\n",
              "      <td>APOSENTADO (EXCETO SERVIDOR PÚBLICO)</td>\n",
              "      <td>-1</td>\n",
              "      <td>-1</td>\n",
              "      <td>#NULO#</td>\n",
              "      <td>N</td>\n",
              "      <td>S</td>\n",
              "      <td>-1</td>\n",
              "      <td>6001262720206260047</td>\n",
              "      <td>-1</td>\n",
              "      <td>#NULO#</td>\n",
              "      <td>-1</td>\n",
              "      <td>#NULO#</td>\n",
              "      <td>NÃO</td>\n",
              "    </tr>\n",
              "    <tr>\n",
              "      <th>63382</th>\n",
              "      <td>05/10/2020</td>\n",
              "      <td>12:29:54</td>\n",
              "      <td>2020</td>\n",
              "      <td>2</td>\n",
              "      <td>ELEIÇÃO ORDINÁRIA</td>\n",
              "      <td>1</td>\n",
              "      <td>426</td>\n",
              "      <td>Eleições Municipais 2020</td>\n",
              "      <td>15/11/2020</td>\n",
              "      <td>MUNICIPAL</td>\n",
              "      <td>SP</td>\n",
              "      <td>65951</td>\n",
              "      <td>JAGUARIÚNA</td>\n",
              "      <td>13</td>\n",
              "      <td>VEREADOR</td>\n",
              "      <td>250000676976</td>\n",
              "      <td>28000</td>\n",
              "      <td>DENISE DE FATIMA FRANCO DE LIMA</td>\n",
              "      <td>DENISE LIMA</td>\n",
              "      <td>#NULO#</td>\n",
              "      <td>7969677843</td>\n",
              "      <td>BRUNA.R.BORGES@HOTMAIL.COM</td>\n",
              "      <td>1</td>\n",
              "      <td>CADASTRADO</td>\n",
              "      <td>8</td>\n",
              "      <td>AGUARDANDO JULGAMENTO</td>\n",
              "      <td>PARTIDO ISOLADO</td>\n",
              "      <td>28</td>\n",
              "      <td>PRTB</td>\n",
              "      <td>PARTIDO RENOVADOR TRABALHISTA BRASILEIRO</td>\n",
              "      <td>250000060993</td>\n",
              "      <td>PARTIDO ISOLADO</td>\n",
              "      <td>PRTB</td>\n",
              "      <td>1</td>\n",
              "      <td>BRASILEIRA NATA</td>\n",
              "      <td>SP</td>\n",
              "      <td>-3</td>\n",
              "      <td>JAGUARIÚNA</td>\n",
              "      <td>25/12/1965</td>\n",
              "      <td>55</td>\n",
              "      <td>143829450191</td>\n",
              "      <td>4</td>\n",
              "      <td>FEMININO</td>\n",
              "      <td>6</td>\n",
              "      <td>ENSINO MÉDIO COMPLETO</td>\n",
              "      <td>3</td>\n",
              "      <td>CASADO(A)</td>\n",
              "      <td>3</td>\n",
              "      <td>PARDA</td>\n",
              "      <td>581</td>\n",
              "      <td>DONA DE CASA</td>\n",
              "      <td>50908</td>\n",
              "      <td>-1</td>\n",
              "      <td>#NULO#</td>\n",
              "      <td>N</td>\n",
              "      <td>S</td>\n",
              "      <td>-1</td>\n",
              "      <td>6001653920206260333</td>\n",
              "      <td>-1</td>\n",
              "      <td>#NULO#</td>\n",
              "      <td>-1</td>\n",
              "      <td>#NULO#</td>\n",
              "      <td>NÃO</td>\n",
              "    </tr>\n",
              "    <tr>\n",
              "      <th>37328</th>\n",
              "      <td>05/10/2020</td>\n",
              "      <td>12:29:54</td>\n",
              "      <td>2020</td>\n",
              "      <td>2</td>\n",
              "      <td>ELEIÇÃO ORDINÁRIA</td>\n",
              "      <td>1</td>\n",
              "      <td>426</td>\n",
              "      <td>Eleições Municipais 2020</td>\n",
              "      <td>15/11/2020</td>\n",
              "      <td>MUNICIPAL</td>\n",
              "      <td>SP</td>\n",
              "      <td>66990</td>\n",
              "      <td>MIRACATU</td>\n",
              "      <td>13</td>\n",
              "      <td>VEREADOR</td>\n",
              "      <td>250000751102</td>\n",
              "      <td>40333</td>\n",
              "      <td>CÉLIO DE OLIVEIRA</td>\n",
              "      <td>CÉLIO DO MORAES</td>\n",
              "      <td>#NULO#</td>\n",
              "      <td>5073118847</td>\n",
              "      <td>PROJETOFORTEMIRACATU@GMAIL.COM</td>\n",
              "      <td>1</td>\n",
              "      <td>CADASTRADO</td>\n",
              "      <td>8</td>\n",
              "      <td>AGUARDANDO JULGAMENTO</td>\n",
              "      <td>PARTIDO ISOLADO</td>\n",
              "      <td>40</td>\n",
              "      <td>PSB</td>\n",
              "      <td>PARTIDO SOCIALISTA BRASILEIRO</td>\n",
              "      <td>250000071188</td>\n",
              "      <td>PARTIDO ISOLADO</td>\n",
              "      <td>PSB</td>\n",
              "      <td>1</td>\n",
              "      <td>BRASILEIRA NATA</td>\n",
              "      <td>SP</td>\n",
              "      <td>-3</td>\n",
              "      <td>ARARAS</td>\n",
              "      <td>01/03/1962</td>\n",
              "      <td>58</td>\n",
              "      <td>70391930191</td>\n",
              "      <td>2</td>\n",
              "      <td>MASCULINO</td>\n",
              "      <td>4</td>\n",
              "      <td>ENSINO FUNDAMENTAL COMPLETO</td>\n",
              "      <td>1</td>\n",
              "      <td>SOLTEIRO(A)</td>\n",
              "      <td>1</td>\n",
              "      <td>BRANCA</td>\n",
              "      <td>601</td>\n",
              "      <td>AGRICULTOR</td>\n",
              "      <td>30935</td>\n",
              "      <td>-1</td>\n",
              "      <td>#NULO#</td>\n",
              "      <td>N</td>\n",
              "      <td>S</td>\n",
              "      <td>-1</td>\n",
              "      <td>6000784020206260218</td>\n",
              "      <td>-1</td>\n",
              "      <td>#NULO#</td>\n",
              "      <td>-1</td>\n",
              "      <td>#NULO#</td>\n",
              "      <td>NÃO</td>\n",
              "    </tr>\n",
              "    <tr>\n",
              "      <th>13818</th>\n",
              "      <td>05/10/2020</td>\n",
              "      <td>12:29:54</td>\n",
              "      <td>2020</td>\n",
              "      <td>2</td>\n",
              "      <td>ELEIÇÃO ORDINÁRIA</td>\n",
              "      <td>1</td>\n",
              "      <td>426</td>\n",
              "      <td>Eleições Municipais 2020</td>\n",
              "      <td>15/11/2020</td>\n",
              "      <td>MUNICIPAL</td>\n",
              "      <td>SP</td>\n",
              "      <td>71978</td>\n",
              "      <td>TREMEMBÉ</td>\n",
              "      <td>13</td>\n",
              "      <td>VEREADOR</td>\n",
              "      <td>250000632525</td>\n",
              "      <td>14567</td>\n",
              "      <td>SUELI PALMEIRA</td>\n",
              "      <td>SUELI PALMEIRA</td>\n",
              "      <td>#NULO#</td>\n",
              "      <td>18561949813</td>\n",
              "      <td>PXLN@UOL.COM.BR</td>\n",
              "      <td>1</td>\n",
              "      <td>CADASTRADO</td>\n",
              "      <td>8</td>\n",
              "      <td>AGUARDANDO JULGAMENTO</td>\n",
              "      <td>PARTIDO ISOLADO</td>\n",
              "      <td>14</td>\n",
              "      <td>PTB</td>\n",
              "      <td>PARTIDO TRABALHISTA BRASILEIRO</td>\n",
              "      <td>250000051658</td>\n",
              "      <td>PARTIDO ISOLADO</td>\n",
              "      <td>PTB</td>\n",
              "      <td>1</td>\n",
              "      <td>BRASILEIRA NATA</td>\n",
              "      <td>SP</td>\n",
              "      <td>-3</td>\n",
              "      <td>TAUBATÉ</td>\n",
              "      <td>12/05/1972</td>\n",
              "      <td>48</td>\n",
              "      <td>263254650183</td>\n",
              "      <td>4</td>\n",
              "      <td>FEMININO</td>\n",
              "      <td>8</td>\n",
              "      <td>SUPERIOR COMPLETO</td>\n",
              "      <td>1</td>\n",
              "      <td>SOLTEIRO(A)</td>\n",
              "      <td>3</td>\n",
              "      <td>PARDA</td>\n",
              "      <td>266</td>\n",
              "      <td>PROFESSOR DE ENSINO MÉDIO</td>\n",
              "      <td>32935</td>\n",
              "      <td>-1</td>\n",
              "      <td>#NULO#</td>\n",
              "      <td>N</td>\n",
              "      <td>S</td>\n",
              "      <td>-1</td>\n",
              "      <td>6001494520206260314</td>\n",
              "      <td>-1</td>\n",
              "      <td>#NULO#</td>\n",
              "      <td>-1</td>\n",
              "      <td>#NULO#</td>\n",
              "      <td>NÃO</td>\n",
              "    </tr>\n",
              "    <tr>\n",
              "      <th>62370</th>\n",
              "      <td>05/10/2020</td>\n",
              "      <td>12:29:54</td>\n",
              "      <td>2020</td>\n",
              "      <td>2</td>\n",
              "      <td>ELEIÇÃO ORDINÁRIA</td>\n",
              "      <td>1</td>\n",
              "      <td>426</td>\n",
              "      <td>Eleições Municipais 2020</td>\n",
              "      <td>15/11/2020</td>\n",
              "      <td>MUNICIPAL</td>\n",
              "      <td>SP</td>\n",
              "      <td>66672</td>\n",
              "      <td>MAGDA</td>\n",
              "      <td>13</td>\n",
              "      <td>VEREADOR</td>\n",
              "      <td>250001198062</td>\n",
              "      <td>22100</td>\n",
              "      <td>ROSANGELA PEREIRA DA SILVA</td>\n",
              "      <td>ROSANGELA</td>\n",
              "      <td>#NULO#</td>\n",
              "      <td>34611435881</td>\n",
              "      <td>ROSANGELAPDS19@GMAIL.COM</td>\n",
              "      <td>1</td>\n",
              "      <td>CADASTRADO</td>\n",
              "      <td>8</td>\n",
              "      <td>AGUARDANDO JULGAMENTO</td>\n",
              "      <td>PARTIDO ISOLADO</td>\n",
              "      <td>22</td>\n",
              "      <td>PL</td>\n",
              "      <td>PARTIDO LIBERAL</td>\n",
              "      <td>250000147299</td>\n",
              "      <td>PARTIDO ISOLADO</td>\n",
              "      <td>PL</td>\n",
              "      <td>1</td>\n",
              "      <td>BRASILEIRA NATA</td>\n",
              "      <td>SP</td>\n",
              "      <td>-3</td>\n",
              "      <td>ESTRELA D OESTE</td>\n",
              "      <td>12/03/1984</td>\n",
              "      <td>36</td>\n",
              "      <td>321619060141</td>\n",
              "      <td>4</td>\n",
              "      <td>FEMININO</td>\n",
              "      <td>6</td>\n",
              "      <td>ENSINO MÉDIO COMPLETO</td>\n",
              "      <td>1</td>\n",
              "      <td>SOLTEIRO(A)</td>\n",
              "      <td>3</td>\n",
              "      <td>PARDA</td>\n",
              "      <td>298</td>\n",
              "      <td>SERVIDOR PÚBLICO MUNICIPAL</td>\n",
              "      <td>12308</td>\n",
              "      <td>-1</td>\n",
              "      <td>#NULO#</td>\n",
              "      <td>N</td>\n",
              "      <td>N</td>\n",
              "      <td>-1</td>\n",
              "      <td>6002895020206260162</td>\n",
              "      <td>-1</td>\n",
              "      <td>#NULO#</td>\n",
              "      <td>-1</td>\n",
              "      <td>#NULO#</td>\n",
              "      <td>NÃO</td>\n",
              "    </tr>\n",
              "  </tbody>\n",
              "</table>\n",
              "</div>"
            ],
            "text/plain": [
              "       DT_GERACAO  ... ST_CANDIDATO_INSERIDO_URNA\n",
              "36022  05/10/2020  ...                        NÃO\n",
              "63382  05/10/2020  ...                        NÃO\n",
              "37328  05/10/2020  ...                        NÃO\n",
              "13818  05/10/2020  ...                        NÃO\n",
              "62370  05/10/2020  ...                        NÃO\n",
              "\n",
              "[5 rows x 63 columns]"
            ]
          },
          "metadata": {
            "tags": []
          },
          "execution_count": 111
        }
      ]
    },
    {
      "cell_type": "code",
      "metadata": {
        "colab": {
          "base_uri": "https://localhost:8080/"
        },
        "id": "oZsOZ6pVGIat",
        "outputId": "72e450b0-d3c9-41d9-a6a9-f6bf5e91e33c"
      },
      "source": [
        "# Verificando quantas linhas e colunas possui o dataset\n",
        "\n",
        "cand_SP_2020.shape"
      ],
      "execution_count": null,
      "outputs": [
        {
          "output_type": "execute_result",
          "data": {
            "text/plain": [
              "(92635, 63)"
            ]
          },
          "metadata": {
            "tags": []
          },
          "execution_count": 112
        }
      ]
    },
    {
      "cell_type": "code",
      "metadata": {
        "colab": {
          "base_uri": "https://localhost:8080/"
        },
        "id": "kmP4FK2GPUre",
        "outputId": "7698f659-ec7e-4a2b-f3c6-56369e686cb4"
      },
      "source": [
        "# Verificando informação sobre o tipo de objeto em cada coluna do dataset\n",
        "\n",
        "cand_SP_2020.info()"
      ],
      "execution_count": null,
      "outputs": [
        {
          "output_type": "stream",
          "text": [
            "<class 'pandas.core.frame.DataFrame'>\n",
            "RangeIndex: 92635 entries, 0 to 92634\n",
            "Data columns (total 63 columns):\n",
            " #   Column                         Non-Null Count  Dtype \n",
            "---  ------                         --------------  ----- \n",
            " 0   DT_GERACAO                     92635 non-null  object\n",
            " 1   HH_GERACAO                     92635 non-null  object\n",
            " 2   ANO_ELEICAO                    92635 non-null  int64 \n",
            " 3   CD_TIPO_ELEICAO                92635 non-null  int64 \n",
            " 4   NM_TIPO_ELEICAO                92635 non-null  object\n",
            " 5   NR_TURNO                       92635 non-null  int64 \n",
            " 6   CD_ELEICAO                     92635 non-null  int64 \n",
            " 7   DS_ELEICAO                     92635 non-null  object\n",
            " 8   DT_ELEICAO                     92635 non-null  object\n",
            " 9   TP_ABRANGENCIA                 92635 non-null  object\n",
            " 10  SG_UF                          92635 non-null  object\n",
            " 11  SG_UE                          92635 non-null  int64 \n",
            " 12  NM_UE                          92635 non-null  object\n",
            " 13  CD_CARGO                       92635 non-null  int64 \n",
            " 14  DS_CARGO                       92635 non-null  object\n",
            " 15  SQ_CANDIDATO                   92635 non-null  int64 \n",
            " 16  NR_CANDIDATO                   92635 non-null  int64 \n",
            " 17  NM_CANDIDATO                   92635 non-null  object\n",
            " 18  NM_URNA_CANDIDATO              92634 non-null  object\n",
            " 19  NM_SOCIAL_CANDIDATO            92635 non-null  object\n",
            " 20  NR_CPF_CANDIDATO               92635 non-null  int64 \n",
            " 21  NM_EMAIL                       92635 non-null  object\n",
            " 22  CD_SITUACAO_CANDIDATURA        92635 non-null  int64 \n",
            " 23  DS_SITUACAO_CANDIDATURA        92635 non-null  object\n",
            " 24  CD_DETALHE_SITUACAO_CAND       92635 non-null  int64 \n",
            " 25  DS_DETALHE_SITUACAO_CAND       92635 non-null  object\n",
            " 26  TP_AGREMIACAO                  92635 non-null  object\n",
            " 27  NR_PARTIDO                     92635 non-null  int64 \n",
            " 28  SG_PARTIDO                     92635 non-null  object\n",
            " 29  NM_PARTIDO                     92635 non-null  object\n",
            " 30  SQ_COLIGACAO                   92635 non-null  int64 \n",
            " 31  NM_COLIGACAO                   92635 non-null  object\n",
            " 32  DS_COMPOSICAO_COLIGACAO        92635 non-null  object\n",
            " 33  CD_NACIONALIDADE               92635 non-null  int64 \n",
            " 34  DS_NACIONALIDADE               92635 non-null  object\n",
            " 35  SG_UF_NASCIMENTO               92635 non-null  object\n",
            " 36  CD_MUNICIPIO_NASCIMENTO        92635 non-null  int64 \n",
            " 37  NM_MUNICIPIO_NASCIMENTO        92635 non-null  object\n",
            " 38  DT_NASCIMENTO                  92635 non-null  object\n",
            " 39  NR_IDADE_DATA_POSSE            92635 non-null  int64 \n",
            " 40  NR_TITULO_ELEITORAL_CANDIDATO  92635 non-null  int64 \n",
            " 41  CD_GENERO                      92635 non-null  int64 \n",
            " 42  DS_GENERO                      92635 non-null  object\n",
            " 43  CD_GRAU_INSTRUCAO              92635 non-null  int64 \n",
            " 44  DS_GRAU_INSTRUCAO              92635 non-null  object\n",
            " 45  CD_ESTADO_CIVIL                92635 non-null  int64 \n",
            " 46  DS_ESTADO_CIVIL                92635 non-null  object\n",
            " 47  CD_COR_RACA                    92635 non-null  int64 \n",
            " 48  DS_COR_RACA                    92635 non-null  object\n",
            " 49  CD_OCUPACAO                    92635 non-null  int64 \n",
            " 50  DS_OCUPACAO                    92635 non-null  object\n",
            " 51  VR_DESPESA_MAX_CAMPANHA        92635 non-null  int64 \n",
            " 52  CD_SIT_TOT_TURNO               92635 non-null  int64 \n",
            " 53  DS_SIT_TOT_TURNO               92635 non-null  object\n",
            " 54  ST_REELEICAO                   92635 non-null  object\n",
            " 55  ST_DECLARAR_BENS               92635 non-null  object\n",
            " 56  NR_PROTOCOLO_CANDIDATURA       92635 non-null  int64 \n",
            " 57  NR_PROCESSO                    92635 non-null  int64 \n",
            " 58  CD_SITUACAO_CANDIDATO_PLEITO   92635 non-null  int64 \n",
            " 59  DS_SITUACAO_CANDIDATO_PLEITO   92635 non-null  object\n",
            " 60  CD_SITUACAO_CANDIDATO_URNA     92635 non-null  int64 \n",
            " 61  DS_SITUACAO_CANDIDATO_URNA     92635 non-null  object\n",
            " 62  ST_CANDIDATO_INSERIDO_URNA     92635 non-null  object\n",
            "dtypes: int64(28), object(35)\n",
            "memory usage: 44.5+ MB\n"
          ],
          "name": "stdout"
        }
      ]
    },
    {
      "cell_type": "markdown",
      "metadata": {
        "id": "DlbQmh4eg1Se"
      },
      "source": [
        "# Modelagem do Dataset"
      ]
    },
    {
      "cell_type": "code",
      "metadata": {
        "id": "Juh7MhaAg50V"
      },
      "source": [
        "# Filtrando os campos úteis a minha análise\n",
        "\n",
        "cand_SP_2020 = cand_SP_2020.filter(items= ['NM_UE','DS_CARGO','NR_CANDIDATO',\n",
        "                                           'NM_CANDIDATO','NR_PARTIDO','SG_PARTIDO',\n",
        "                                           'DS_GENERO','DS_GRAU_INSTRUCAO',\n",
        "                                           'DS_ESTADO_CIVIL','ST_REELEICAO',\n",
        "                                           'DS_COR_RACA',\n",
        "                                           'NR_IDADE_DATA_POSSE','VR_DESPESA_MAX_CAMPANHA'])"
      ],
      "execution_count": null,
      "outputs": []
    },
    {
      "cell_type": "code",
      "metadata": {
        "id": "7ON4dobpjHGj"
      },
      "source": [
        "# Definindo uma variável para os candidatos do município de São Caetano do Sul\n",
        "\n",
        "cand_SCS_2020 = cand_SP_2020[cand_SP_2020['NM_UE'] == 'SÃO CAETANO DO SUL']"
      ],
      "execution_count": null,
      "outputs": []
    },
    {
      "cell_type": "code",
      "metadata": {
        "colab": {
          "base_uri": "https://localhost:8080/",
          "height": 796
        },
        "id": "_A7TN-bsjcoR",
        "outputId": "82f5761b-bc2e-40c2-ae18-d853faf751cd"
      },
      "source": [
        "cand_SCS_2020"
      ],
      "execution_count": null,
      "outputs": [
        {
          "output_type": "execute_result",
          "data": {
            "text/html": [
              "<div>\n",
              "<style scoped>\n",
              "    .dataframe tbody tr th:only-of-type {\n",
              "        vertical-align: middle;\n",
              "    }\n",
              "\n",
              "    .dataframe tbody tr th {\n",
              "        vertical-align: top;\n",
              "    }\n",
              "\n",
              "    .dataframe thead th {\n",
              "        text-align: right;\n",
              "    }\n",
              "</style>\n",
              "<table border=\"1\" class=\"dataframe\">\n",
              "  <thead>\n",
              "    <tr style=\"text-align: right;\">\n",
              "      <th></th>\n",
              "      <th>NM_UE</th>\n",
              "      <th>DS_CARGO</th>\n",
              "      <th>NR_CANDIDATO</th>\n",
              "      <th>NM_CANDIDATO</th>\n",
              "      <th>NR_PARTIDO</th>\n",
              "      <th>SG_PARTIDO</th>\n",
              "      <th>DS_GENERO</th>\n",
              "      <th>DS_GRAU_INSTRUCAO</th>\n",
              "      <th>DS_ESTADO_CIVIL</th>\n",
              "      <th>ST_REELEICAO</th>\n",
              "      <th>DS_COR_RACA</th>\n",
              "      <th>NR_IDADE_DATA_POSSE</th>\n",
              "      <th>VR_DESPESA_MAX_CAMPANHA</th>\n",
              "    </tr>\n",
              "  </thead>\n",
              "  <tbody>\n",
              "    <tr>\n",
              "      <th>365</th>\n",
              "      <td>SÃO CAETANO DO SUL</td>\n",
              "      <td>VEREADOR</td>\n",
              "      <td>23423</td>\n",
              "      <td>MARCEL FRANCO MUNHOZ</td>\n",
              "      <td>23</td>\n",
              "      <td>CIDADANIA</td>\n",
              "      <td>MASCULINO</td>\n",
              "      <td>SUPERIOR COMPLETO</td>\n",
              "      <td>CASADO(A)</td>\n",
              "      <td>N</td>\n",
              "      <td>BRANCA</td>\n",
              "      <td>51</td>\n",
              "      <td>290257</td>\n",
              "    </tr>\n",
              "    <tr>\n",
              "      <th>367</th>\n",
              "      <td>SÃO CAETANO DO SUL</td>\n",
              "      <td>VEREADOR</td>\n",
              "      <td>51288</td>\n",
              "      <td>DORALICE ANTONIA DE LIMA</td>\n",
              "      <td>51</td>\n",
              "      <td>PATRIOTA</td>\n",
              "      <td>FEMININO</td>\n",
              "      <td>ENSINO MÉDIO COMPLETO</td>\n",
              "      <td>SOLTEIRO(A)</td>\n",
              "      <td>N</td>\n",
              "      <td>BRANCA</td>\n",
              "      <td>53</td>\n",
              "      <td>290257</td>\n",
              "    </tr>\n",
              "    <tr>\n",
              "      <th>669</th>\n",
              "      <td>SÃO CAETANO DO SUL</td>\n",
              "      <td>VEREADOR</td>\n",
              "      <td>51555</td>\n",
              "      <td>CASSIA MORENO DE GODOY</td>\n",
              "      <td>51</td>\n",
              "      <td>PATRIOTA</td>\n",
              "      <td>FEMININO</td>\n",
              "      <td>ENSINO MÉDIO COMPLETO</td>\n",
              "      <td>CASADO(A)</td>\n",
              "      <td>N</td>\n",
              "      <td>BRANCA</td>\n",
              "      <td>53</td>\n",
              "      <td>290257</td>\n",
              "    </tr>\n",
              "    <tr>\n",
              "      <th>814</th>\n",
              "      <td>SÃO CAETANO DO SUL</td>\n",
              "      <td>PREFEITO</td>\n",
              "      <td>18</td>\n",
              "      <td>EDUARDO CASONATO AVILA</td>\n",
              "      <td>18</td>\n",
              "      <td>REDE</td>\n",
              "      <td>MASCULINO</td>\n",
              "      <td>SUPERIOR COMPLETO</td>\n",
              "      <td>DIVORCIADO(A)</td>\n",
              "      <td>N</td>\n",
              "      <td>BRANCA</td>\n",
              "      <td>42</td>\n",
              "      <td>2241374</td>\n",
              "    </tr>\n",
              "    <tr>\n",
              "      <th>1077</th>\n",
              "      <td>SÃO CAETANO DO SUL</td>\n",
              "      <td>VICE-PREFEITO</td>\n",
              "      <td>13</td>\n",
              "      <td>VERA LUCIA SEVERIANO</td>\n",
              "      <td>13</td>\n",
              "      <td>PT</td>\n",
              "      <td>FEMININO</td>\n",
              "      <td>SUPERIOR COMPLETO</td>\n",
              "      <td>SOLTEIRO(A)</td>\n",
              "      <td>N</td>\n",
              "      <td>BRANCA</td>\n",
              "      <td>60</td>\n",
              "      <td>-1</td>\n",
              "    </tr>\n",
              "    <tr>\n",
              "      <th>...</th>\n",
              "      <td>...</td>\n",
              "      <td>...</td>\n",
              "      <td>...</td>\n",
              "      <td>...</td>\n",
              "      <td>...</td>\n",
              "      <td>...</td>\n",
              "      <td>...</td>\n",
              "      <td>...</td>\n",
              "      <td>...</td>\n",
              "      <td>...</td>\n",
              "      <td>...</td>\n",
              "      <td>...</td>\n",
              "      <td>...</td>\n",
              "    </tr>\n",
              "    <tr>\n",
              "      <th>90471</th>\n",
              "      <td>SÃO CAETANO DO SUL</td>\n",
              "      <td>VEREADOR</td>\n",
              "      <td>10123</td>\n",
              "      <td>WALTER ESTEVAM JUNIOR</td>\n",
              "      <td>10</td>\n",
              "      <td>REPUBLICANOS</td>\n",
              "      <td>MASCULINO</td>\n",
              "      <td>SUPERIOR COMPLETO</td>\n",
              "      <td>DIVORCIADO(A)</td>\n",
              "      <td>N</td>\n",
              "      <td>BRANCA</td>\n",
              "      <td>59</td>\n",
              "      <td>290257</td>\n",
              "    </tr>\n",
              "    <tr>\n",
              "      <th>91079</th>\n",
              "      <td>SÃO CAETANO DO SUL</td>\n",
              "      <td>VEREADOR</td>\n",
              "      <td>55123</td>\n",
              "      <td>MARCUS VINICIUS MARTINEZ</td>\n",
              "      <td>55</td>\n",
              "      <td>PSD</td>\n",
              "      <td>MASCULINO</td>\n",
              "      <td>SUPERIOR COMPLETO</td>\n",
              "      <td>CASADO(A)</td>\n",
              "      <td>N</td>\n",
              "      <td>BRANCA</td>\n",
              "      <td>41</td>\n",
              "      <td>290257</td>\n",
              "    </tr>\n",
              "    <tr>\n",
              "      <th>91535</th>\n",
              "      <td>SÃO CAETANO DO SUL</td>\n",
              "      <td>VEREADOR</td>\n",
              "      <td>19888</td>\n",
              "      <td>JORGE EDNAR FRANCISCO</td>\n",
              "      <td>19</td>\n",
              "      <td>PODE</td>\n",
              "      <td>MASCULINO</td>\n",
              "      <td>ENSINO MÉDIO COMPLETO</td>\n",
              "      <td>DIVORCIADO(A)</td>\n",
              "      <td>N</td>\n",
              "      <td>PRETA</td>\n",
              "      <td>59</td>\n",
              "      <td>290257</td>\n",
              "    </tr>\n",
              "    <tr>\n",
              "      <th>91802</th>\n",
              "      <td>SÃO CAETANO DO SUL</td>\n",
              "      <td>VEREADOR</td>\n",
              "      <td>22033</td>\n",
              "      <td>CAIO EDUARDO KIN JESUS FUNAKI</td>\n",
              "      <td>22</td>\n",
              "      <td>PL</td>\n",
              "      <td>MASCULINO</td>\n",
              "      <td>SUPERIOR COMPLETO</td>\n",
              "      <td>SOLTEIRO(A)</td>\n",
              "      <td>N</td>\n",
              "      <td>BRANCA</td>\n",
              "      <td>28</td>\n",
              "      <td>290257</td>\n",
              "    </tr>\n",
              "    <tr>\n",
              "      <th>92001</th>\n",
              "      <td>SÃO CAETANO DO SUL</td>\n",
              "      <td>VEREADOR</td>\n",
              "      <td>22322</td>\n",
              "      <td>FELIPE ZACARIAS DE ARAUJO</td>\n",
              "      <td>22</td>\n",
              "      <td>PL</td>\n",
              "      <td>MASCULINO</td>\n",
              "      <td>SUPERIOR COMPLETO</td>\n",
              "      <td>SOLTEIRO(A)</td>\n",
              "      <td>N</td>\n",
              "      <td>BRANCA</td>\n",
              "      <td>27</td>\n",
              "      <td>290257</td>\n",
              "    </tr>\n",
              "  </tbody>\n",
              "</table>\n",
              "<p>388 rows × 13 columns</p>\n",
              "</div>"
            ],
            "text/plain": [
              "                    NM_UE  ... VR_DESPESA_MAX_CAMPANHA\n",
              "365    SÃO CAETANO DO SUL  ...                  290257\n",
              "367    SÃO CAETANO DO SUL  ...                  290257\n",
              "669    SÃO CAETANO DO SUL  ...                  290257\n",
              "814    SÃO CAETANO DO SUL  ...                 2241374\n",
              "1077   SÃO CAETANO DO SUL  ...                      -1\n",
              "...                   ...  ...                     ...\n",
              "90471  SÃO CAETANO DO SUL  ...                  290257\n",
              "91079  SÃO CAETANO DO SUL  ...                  290257\n",
              "91535  SÃO CAETANO DO SUL  ...                  290257\n",
              "91802  SÃO CAETANO DO SUL  ...                  290257\n",
              "92001  SÃO CAETANO DO SUL  ...                  290257\n",
              "\n",
              "[388 rows x 13 columns]"
            ]
          },
          "metadata": {
            "tags": []
          },
          "execution_count": 116
        }
      ]
    },
    {
      "cell_type": "code",
      "metadata": {
        "id": "D16hXsMBkpWq"
      },
      "source": [
        "# Filtrando dos candidatos de São Caetano do Sul, apenas aqueles que estão concorrendo ao cargo de vereador\n",
        "\n",
        "vereador_SCS_2020 = cand_SCS_2020[cand_SCS_2020['DS_CARGO'] == 'VEREADOR']"
      ],
      "execution_count": null,
      "outputs": []
    },
    {
      "cell_type": "code",
      "metadata": {
        "colab": {
          "base_uri": "https://localhost:8080/",
          "height": 796
        },
        "id": "fNiEWId1k_jF",
        "outputId": "1cd1283f-3ad3-49c2-9002-d631828160f6"
      },
      "source": [
        "vereador_SCS_2020"
      ],
      "execution_count": null,
      "outputs": [
        {
          "output_type": "execute_result",
          "data": {
            "text/html": [
              "<div>\n",
              "<style scoped>\n",
              "    .dataframe tbody tr th:only-of-type {\n",
              "        vertical-align: middle;\n",
              "    }\n",
              "\n",
              "    .dataframe tbody tr th {\n",
              "        vertical-align: top;\n",
              "    }\n",
              "\n",
              "    .dataframe thead th {\n",
              "        text-align: right;\n",
              "    }\n",
              "</style>\n",
              "<table border=\"1\" class=\"dataframe\">\n",
              "  <thead>\n",
              "    <tr style=\"text-align: right;\">\n",
              "      <th></th>\n",
              "      <th>NM_UE</th>\n",
              "      <th>DS_CARGO</th>\n",
              "      <th>NR_CANDIDATO</th>\n",
              "      <th>NM_CANDIDATO</th>\n",
              "      <th>NR_PARTIDO</th>\n",
              "      <th>SG_PARTIDO</th>\n",
              "      <th>DS_GENERO</th>\n",
              "      <th>DS_GRAU_INSTRUCAO</th>\n",
              "      <th>DS_ESTADO_CIVIL</th>\n",
              "      <th>ST_REELEICAO</th>\n",
              "      <th>DS_COR_RACA</th>\n",
              "      <th>NR_IDADE_DATA_POSSE</th>\n",
              "      <th>VR_DESPESA_MAX_CAMPANHA</th>\n",
              "    </tr>\n",
              "  </thead>\n",
              "  <tbody>\n",
              "    <tr>\n",
              "      <th>365</th>\n",
              "      <td>SÃO CAETANO DO SUL</td>\n",
              "      <td>VEREADOR</td>\n",
              "      <td>23423</td>\n",
              "      <td>MARCEL FRANCO MUNHOZ</td>\n",
              "      <td>23</td>\n",
              "      <td>CIDADANIA</td>\n",
              "      <td>MASCULINO</td>\n",
              "      <td>SUPERIOR COMPLETO</td>\n",
              "      <td>CASADO(A)</td>\n",
              "      <td>N</td>\n",
              "      <td>BRANCA</td>\n",
              "      <td>51</td>\n",
              "      <td>290257</td>\n",
              "    </tr>\n",
              "    <tr>\n",
              "      <th>367</th>\n",
              "      <td>SÃO CAETANO DO SUL</td>\n",
              "      <td>VEREADOR</td>\n",
              "      <td>51288</td>\n",
              "      <td>DORALICE ANTONIA DE LIMA</td>\n",
              "      <td>51</td>\n",
              "      <td>PATRIOTA</td>\n",
              "      <td>FEMININO</td>\n",
              "      <td>ENSINO MÉDIO COMPLETO</td>\n",
              "      <td>SOLTEIRO(A)</td>\n",
              "      <td>N</td>\n",
              "      <td>BRANCA</td>\n",
              "      <td>53</td>\n",
              "      <td>290257</td>\n",
              "    </tr>\n",
              "    <tr>\n",
              "      <th>669</th>\n",
              "      <td>SÃO CAETANO DO SUL</td>\n",
              "      <td>VEREADOR</td>\n",
              "      <td>51555</td>\n",
              "      <td>CASSIA MORENO DE GODOY</td>\n",
              "      <td>51</td>\n",
              "      <td>PATRIOTA</td>\n",
              "      <td>FEMININO</td>\n",
              "      <td>ENSINO MÉDIO COMPLETO</td>\n",
              "      <td>CASADO(A)</td>\n",
              "      <td>N</td>\n",
              "      <td>BRANCA</td>\n",
              "      <td>53</td>\n",
              "      <td>290257</td>\n",
              "    </tr>\n",
              "    <tr>\n",
              "      <th>1187</th>\n",
              "      <td>SÃO CAETANO DO SUL</td>\n",
              "      <td>VEREADOR</td>\n",
              "      <td>18025</td>\n",
              "      <td>NILSON RIBEIRO DA SILVA</td>\n",
              "      <td>18</td>\n",
              "      <td>REDE</td>\n",
              "      <td>MASCULINO</td>\n",
              "      <td>ENSINO FUNDAMENTAL COMPLETO</td>\n",
              "      <td>DIVORCIADO(A)</td>\n",
              "      <td>N</td>\n",
              "      <td>BRANCA</td>\n",
              "      <td>64</td>\n",
              "      <td>290257</td>\n",
              "    </tr>\n",
              "    <tr>\n",
              "      <th>1195</th>\n",
              "      <td>SÃO CAETANO DO SUL</td>\n",
              "      <td>VEREADOR</td>\n",
              "      <td>70270</td>\n",
              "      <td>CAIQUE IPPOLITO</td>\n",
              "      <td>70</td>\n",
              "      <td>AVANTE</td>\n",
              "      <td>MASCULINO</td>\n",
              "      <td>SUPERIOR INCOMPLETO</td>\n",
              "      <td>SOLTEIRO(A)</td>\n",
              "      <td>N</td>\n",
              "      <td>BRANCA</td>\n",
              "      <td>27</td>\n",
              "      <td>290257</td>\n",
              "    </tr>\n",
              "    <tr>\n",
              "      <th>...</th>\n",
              "      <td>...</td>\n",
              "      <td>...</td>\n",
              "      <td>...</td>\n",
              "      <td>...</td>\n",
              "      <td>...</td>\n",
              "      <td>...</td>\n",
              "      <td>...</td>\n",
              "      <td>...</td>\n",
              "      <td>...</td>\n",
              "      <td>...</td>\n",
              "      <td>...</td>\n",
              "      <td>...</td>\n",
              "      <td>...</td>\n",
              "    </tr>\n",
              "    <tr>\n",
              "      <th>90471</th>\n",
              "      <td>SÃO CAETANO DO SUL</td>\n",
              "      <td>VEREADOR</td>\n",
              "      <td>10123</td>\n",
              "      <td>WALTER ESTEVAM JUNIOR</td>\n",
              "      <td>10</td>\n",
              "      <td>REPUBLICANOS</td>\n",
              "      <td>MASCULINO</td>\n",
              "      <td>SUPERIOR COMPLETO</td>\n",
              "      <td>DIVORCIADO(A)</td>\n",
              "      <td>N</td>\n",
              "      <td>BRANCA</td>\n",
              "      <td>59</td>\n",
              "      <td>290257</td>\n",
              "    </tr>\n",
              "    <tr>\n",
              "      <th>91079</th>\n",
              "      <td>SÃO CAETANO DO SUL</td>\n",
              "      <td>VEREADOR</td>\n",
              "      <td>55123</td>\n",
              "      <td>MARCUS VINICIUS MARTINEZ</td>\n",
              "      <td>55</td>\n",
              "      <td>PSD</td>\n",
              "      <td>MASCULINO</td>\n",
              "      <td>SUPERIOR COMPLETO</td>\n",
              "      <td>CASADO(A)</td>\n",
              "      <td>N</td>\n",
              "      <td>BRANCA</td>\n",
              "      <td>41</td>\n",
              "      <td>290257</td>\n",
              "    </tr>\n",
              "    <tr>\n",
              "      <th>91535</th>\n",
              "      <td>SÃO CAETANO DO SUL</td>\n",
              "      <td>VEREADOR</td>\n",
              "      <td>19888</td>\n",
              "      <td>JORGE EDNAR FRANCISCO</td>\n",
              "      <td>19</td>\n",
              "      <td>PODE</td>\n",
              "      <td>MASCULINO</td>\n",
              "      <td>ENSINO MÉDIO COMPLETO</td>\n",
              "      <td>DIVORCIADO(A)</td>\n",
              "      <td>N</td>\n",
              "      <td>PRETA</td>\n",
              "      <td>59</td>\n",
              "      <td>290257</td>\n",
              "    </tr>\n",
              "    <tr>\n",
              "      <th>91802</th>\n",
              "      <td>SÃO CAETANO DO SUL</td>\n",
              "      <td>VEREADOR</td>\n",
              "      <td>22033</td>\n",
              "      <td>CAIO EDUARDO KIN JESUS FUNAKI</td>\n",
              "      <td>22</td>\n",
              "      <td>PL</td>\n",
              "      <td>MASCULINO</td>\n",
              "      <td>SUPERIOR COMPLETO</td>\n",
              "      <td>SOLTEIRO(A)</td>\n",
              "      <td>N</td>\n",
              "      <td>BRANCA</td>\n",
              "      <td>28</td>\n",
              "      <td>290257</td>\n",
              "    </tr>\n",
              "    <tr>\n",
              "      <th>92001</th>\n",
              "      <td>SÃO CAETANO DO SUL</td>\n",
              "      <td>VEREADOR</td>\n",
              "      <td>22322</td>\n",
              "      <td>FELIPE ZACARIAS DE ARAUJO</td>\n",
              "      <td>22</td>\n",
              "      <td>PL</td>\n",
              "      <td>MASCULINO</td>\n",
              "      <td>SUPERIOR COMPLETO</td>\n",
              "      <td>SOLTEIRO(A)</td>\n",
              "      <td>N</td>\n",
              "      <td>BRANCA</td>\n",
              "      <td>27</td>\n",
              "      <td>290257</td>\n",
              "    </tr>\n",
              "  </tbody>\n",
              "</table>\n",
              "<p>372 rows × 13 columns</p>\n",
              "</div>"
            ],
            "text/plain": [
              "                    NM_UE  ... VR_DESPESA_MAX_CAMPANHA\n",
              "365    SÃO CAETANO DO SUL  ...                  290257\n",
              "367    SÃO CAETANO DO SUL  ...                  290257\n",
              "669    SÃO CAETANO DO SUL  ...                  290257\n",
              "1187   SÃO CAETANO DO SUL  ...                  290257\n",
              "1195   SÃO CAETANO DO SUL  ...                  290257\n",
              "...                   ...  ...                     ...\n",
              "90471  SÃO CAETANO DO SUL  ...                  290257\n",
              "91079  SÃO CAETANO DO SUL  ...                  290257\n",
              "91535  SÃO CAETANO DO SUL  ...                  290257\n",
              "91802  SÃO CAETANO DO SUL  ...                  290257\n",
              "92001  SÃO CAETANO DO SUL  ...                  290257\n",
              "\n",
              "[372 rows x 13 columns]"
            ]
          },
          "metadata": {
            "tags": []
          },
          "execution_count": 118
        }
      ]
    },
    {
      "cell_type": "markdown",
      "metadata": {
        "id": "jaUBSDq_nEky"
      },
      "source": [
        "# Explorando o dataset\n",
        "\n",
        "---\n",
        "\n",
        "Obtendo insights à partir da análise exploratória dos dados de perfil dos candidatos ao cargo de vereador municipal da cidade de São Caetano do Sul no ano de 2020.\n"
      ]
    },
    {
      "cell_type": "markdown",
      "metadata": {
        "id": "Xd1AfMA3ndC1"
      },
      "source": [
        "# Distribuição por gênero na cidade de São Caetano do Sul e comparação com números do Estado de SP"
      ]
    },
    {
      "cell_type": "code",
      "metadata": {
        "colab": {
          "base_uri": "https://localhost:8080/"
        },
        "id": "N6oYmbMgPeCY",
        "outputId": "beeb5d86-dd99-4f82-f691-c30d2f8b0bbc"
      },
      "source": [
        "vereador_SCS_2020['DS_GENERO'].value_counts(normalize=True)*100"
      ],
      "execution_count": null,
      "outputs": [
        {
          "output_type": "execute_result",
          "data": {
            "text/plain": [
              "MASCULINO    65.860215\n",
              "FEMININO     34.139785\n",
              "Name: DS_GENERO, dtype: float64"
            ]
          },
          "metadata": {
            "tags": []
          },
          "execution_count": 119
        }
      ]
    },
    {
      "cell_type": "code",
      "metadata": {
        "colab": {
          "base_uri": "https://localhost:8080/",
          "height": 264
        },
        "id": "r4CDIv6tPhAd",
        "outputId": "7c12f024-b3f0-41bf-af9b-903df9e7d7dd"
      },
      "source": [
        "vereador_SCS_2020['DS_GENERO'].value_counts(normalize=True).plot(kind='pie' , autopct='%1.2f%%', title='Distribuição de candidaturas por gênero em SCS');"
      ],
      "execution_count": null,
      "outputs": [
        {
          "output_type": "display_data",
          "data": {
            "image/png": "[encoded data removed]",
            "text/plain": [
              "<Figure size 432x288 with 1 Axes>"
            ]
          },
          "metadata": {
            "tags": []
          }
        }
      ]
    },
    {
      "cell_type": "code",
      "metadata": {
        "colab": {
          "base_uri": "https://localhost:8080/"
        },
        "id": "g3d3DijTo2td",
        "outputId": "f8f0e27a-337e-49a6-c88b-8aff33fd3a19"
      },
      "source": [
        "cand_SP_2020['DS_GENERO'].value_counts(normalize=True)*100"
      ],
      "execution_count": null,
      "outputs": [
        {
          "output_type": "execute_result",
          "data": {
            "text/plain": [
              "MASCULINO    66.700491\n",
              "FEMININO     33.299509\n",
              "Name: DS_GENERO, dtype: float64"
            ]
          },
          "metadata": {
            "tags": []
          },
          "execution_count": 121
        }
      ]
    },
    {
      "cell_type": "code",
      "metadata": {
        "colab": {
          "base_uri": "https://localhost:8080/",
          "height": 264
        },
        "id": "upuspN_eo8b_",
        "outputId": "d21d4a21-2904-457f-8b30-5987ccc8b662"
      },
      "source": [
        "cand_SP_2020['DS_GENERO'].value_counts(normalize=True).plot(kind='pie' , autopct='%1.2f%%', title='Distribuição de candidaturas por gênero no Estado de SP');"
      ],
      "execution_count": null,
      "outputs": [
        {
          "output_type": "display_data",
          "data": {
            "image/png": "[encoded data removed]",
            "text/plain": [
              "<Figure size 432x288 with 1 Axes>"
            ]
          },
          "metadata": {
            "tags": []
          }
        }
      ]
    },
    {
      "cell_type": "markdown",
      "metadata": {
        "id": "KhbTd7v0pvNB"
      },
      "source": [
        "Há um leve acréscimo percentual no número de pessoas que se declararam mulheres no pleito ao cargo de vereador em comparação com a média estadual, sendo 34,14% em São Caetano do Sul e 33,30% a nível estadual.\n",
        "\n",
        "---\n",
        "\n"
      ]
    },
    {
      "cell_type": "markdown",
      "metadata": {
        "id": "PBL5EXomoCJ4"
      },
      "source": [
        "# Distribuição por raça autodeclarada dos candidatos a vereador em São Caetano do Sul e e comparação com números do Estado de SP"
      ]
    },
    {
      "cell_type": "code",
      "metadata": {
        "colab": {
          "base_uri": "https://localhost:8080/"
        },
        "id": "odERRGPTn2Tp",
        "outputId": "7d992d42-b8cc-45dc-9ca0-7fdc9cea4533"
      },
      "source": [
        "vereador_SCS_2020['DS_COR_RACA'].value_counts(normalize=True)*100"
      ],
      "execution_count": null,
      "outputs": [
        {
          "output_type": "execute_result",
          "data": {
            "text/plain": [
              "BRANCA            82.795699\n",
              "PARDA             10.752688\n",
              "PRETA              5.913978\n",
              "AMARELA            0.268817\n",
              "SEM INFORMAÇÃO     0.268817\n",
              "Name: DS_COR_RACA, dtype: float64"
            ]
          },
          "metadata": {
            "tags": []
          },
          "execution_count": 123
        }
      ]
    },
    {
      "cell_type": "code",
      "metadata": {
        "colab": {
          "base_uri": "https://localhost:8080/"
        },
        "id": "rrH1Y6cboIxZ",
        "outputId": "ca8f786c-3b88-4fe5-8178-b9416e59417b"
      },
      "source": [
        "vereador_SCS_2020['DS_COR_RACA'].value_counts(normalize=True).plot(kind='bar',title='Distribuição por raça autodeclarada dos candidatos');"
      ],
      "execution_count": null,
      "outputs": [
        {
          "output_type": "display_data",
          "data": {
            "image/png": "[encoded data removed]",
            "text/plain": [
              "<Figure size 432x288 with 1 Axes>"
            ]
          },
          "metadata": {
            "tags": []
          }
        }
      ]
    },
    {
      "cell_type": "code",
      "metadata": {
        "colab": {
          "base_uri": "https://localhost:8080/"
        },
        "id": "qDVozcdQpZit",
        "outputId": "cc537637-6f3d-4860-ba53-9f9d7e12585c"
      },
      "source": [
        "cand_SP_2020['DS_COR_RACA'].value_counts(normalize=True)*100"
      ],
      "execution_count": null,
      "outputs": [
        {
          "output_type": "execute_result",
          "data": {
            "text/plain": [
              "BRANCA            69.374427\n",
              "PARDA             20.131700\n",
              "PRETA              9.240568\n",
              "SEM INFORMAÇÃO     0.822583\n",
              "AMARELA            0.352998\n",
              "INDÍGENA           0.077724\n",
              "Name: DS_COR_RACA, dtype: float64"
            ]
          },
          "metadata": {
            "tags": []
          },
          "execution_count": 125
        }
      ]
    },
    {
      "cell_type": "code",
      "metadata": {
        "colab": {
          "base_uri": "https://localhost:8080/"
        },
        "id": "i0CtOjpLpfb3",
        "outputId": "bcf7195c-8b7d-4787-b117-548f95fc615f"
      },
      "source": [
        "cand_SP_2020['DS_COR_RACA'].value_counts(normalize=True).plot(kind='bar',title='Distribuição por raça autodeclarada dos candidatos');"
      ],
      "execution_count": null,
      "outputs": [
        {
          "output_type": "display_data",
          "data": {
            "image/png": "[encoded data removed]",
            "text/plain": [
              "<Figure size 432x288 with 1 Axes>"
            ]
          },
          "metadata": {
            "tags": []
          }
        }
      ]
    },
    {
      "cell_type": "markdown",
      "metadata": {
        "id": "BEQtx69VqQH0"
      },
      "source": [
        "Há uma menor diversidade no município de São Caetano do Sul em comparação com os dados estaduais, onde os autodeclarados brancos são 82% contra 69% do total estadual.\n",
        "\n",
        "\n",
        "---\n",
        "\n"
      ]
    },
    {
      "cell_type": "markdown",
      "metadata": {
        "id": "MN5QsBlZnqjQ"
      },
      "source": [
        "# Escolaridade dos candidatos ao cargo de vereador na cidade de São Caetano do Sul"
      ]
    },
    {
      "cell_type": "code",
      "metadata": {
        "colab": {
          "base_uri": "https://localhost:8080/"
        },
        "id": "G9zcM9zYPpce",
        "outputId": "09b3359d-8f65-44a6-922f-8453ff60060a"
      },
      "source": [
        "vereador_SCS_2020['DS_GRAU_INSTRUCAO'].value_counts(normalize=True)*100"
      ],
      "execution_count": null,
      "outputs": [
        {
          "output_type": "execute_result",
          "data": {
            "text/plain": [
              "SUPERIOR COMPLETO                54.838710\n",
              "ENSINO MÉDIO COMPLETO            24.462366\n",
              "SUPERIOR INCOMPLETO               8.870968\n",
              "ENSINO FUNDAMENTAL COMPLETO       8.333333\n",
              "ENSINO FUNDAMENTAL INCOMPLETO     2.150538\n",
              "ENSINO MÉDIO INCOMPLETO           1.344086\n",
              "Name: DS_GRAU_INSTRUCAO, dtype: float64"
            ]
          },
          "metadata": {
            "tags": []
          },
          "execution_count": 127
        }
      ]
    },
    {
      "cell_type": "code",
      "metadata": {
        "colab": {
          "base_uri": "https://localhost:8080/",
          "height": 478
        },
        "id": "245YdEVcPtBv",
        "outputId": "58d3db35-8e78-4554-bc4c-58ae008c01a9"
      },
      "source": [
        "vereador_SCS_2020['DS_GRAU_INSTRUCAO'].value_counts(normalize=True).plot(kind='bar', title='Distribuição de candidaturas por grau de escolaridade em SCS');"
      ],
      "execution_count": null,
      "outputs": [
        {
          "output_type": "display_data",
          "data": {
            "image/png": "[encoded data removed]",
            "text/plain": [
              "<Figure size 432x288 with 1 Axes>"
            ]
          },
          "metadata": {
            "tags": []
          }
        }
      ]
    },
    {
      "cell_type": "code",
      "metadata": {
        "colab": {
          "base_uri": "https://localhost:8080/"
        },
        "id": "GJfRiPior6iO",
        "outputId": "4c7bfd27-db0a-400f-dd07-7e43ba37123a"
      },
      "source": [
        "cand_SP_2020['DS_GRAU_INSTRUCAO'].value_counts(normalize=True)*100"
      ],
      "execution_count": null,
      "outputs": [
        {
          "output_type": "execute_result",
          "data": {
            "text/plain": [
              "ENSINO MÉDIO COMPLETO            39.432180\n",
              "SUPERIOR COMPLETO                28.231230\n",
              "ENSINO FUNDAMENTAL COMPLETO      11.833540\n",
              "ENSINO FUNDAMENTAL INCOMPLETO     8.704054\n",
              "SUPERIOR INCOMPLETO               4.912830\n",
              "ENSINO MÉDIO INCOMPLETO           4.417337\n",
              "LÊ E ESCREVE                      2.466670\n",
              "ANALFABETO                        0.002159\n",
              "Name: DS_GRAU_INSTRUCAO, dtype: float64"
            ]
          },
          "metadata": {
            "tags": []
          },
          "execution_count": 129
        }
      ]
    },
    {
      "cell_type": "code",
      "metadata": {
        "colab": {
          "base_uri": "https://localhost:8080/",
          "height": 478
        },
        "id": "1aSgz_eSr_ui",
        "outputId": "14395e0f-6fd4-4c83-9215-6d78ed3709d8"
      },
      "source": [
        "cand_SP_2020['DS_GRAU_INSTRUCAO'].value_counts(normalize=True).plot(kind='bar', title='Distribuição de candidaturas por grau de escolaridade no estado de SP');"
      ],
      "execution_count": null,
      "outputs": [
        {
          "output_type": "display_data",
          "data": {
            "image/png": "[encoded data removed]",
            "text/plain": [
              "<Figure size 432x288 with 1 Axes>"
            ]
          },
          "metadata": {
            "tags": []
          }
        }
      ]
    },
    {
      "cell_type": "markdown",
      "metadata": {
        "id": "tFwXeedWsSc6"
      },
      "source": [
        "Em São Caetano do Sul o percentual de candidatos com ensino superior completo é de 54.83% contra apenas 28.23% em todo o Estado, sendo que, em nível estadual o índice mais significativo é o de candidatos com o ensino médio completo com percentual de 39.43%\n",
        "\n",
        "---\n",
        "\n"
      ]
    },
    {
      "cell_type": "markdown",
      "metadata": {
        "id": "bnJMGxfOtWZi"
      },
      "source": [
        "# Há renovação de candidatos?"
      ]
    },
    {
      "cell_type": "code",
      "metadata": {
        "colab": {
          "base_uri": "https://localhost:8080/"
        },
        "id": "_L9LhmcAuaYD",
        "outputId": "ba597593-1b16-4c06-fd73-77936466b294"
      },
      "source": [
        "len(vereador_SCS_2020)"
      ],
      "execution_count": null,
      "outputs": [
        {
          "output_type": "execute_result",
          "data": {
            "text/plain": [
              "372"
            ]
          },
          "metadata": {
            "tags": []
          },
          "execution_count": 131
        }
      ]
    },
    {
      "cell_type": "code",
      "metadata": {
        "colab": {
          "base_uri": "https://localhost:8080/"
        },
        "id": "G95Wk1MpteXl",
        "outputId": "37260cc9-97f3-49b2-ff57-f0452bde747e"
      },
      "source": [
        "vereador_SCS_2020['ST_REELEICAO'].value_counts(normalize=True)*100"
      ],
      "execution_count": null,
      "outputs": [
        {
          "output_type": "execute_result",
          "data": {
            "text/plain": [
              "N    97.849462\n",
              "S     2.150538\n",
              "Name: ST_REELEICAO, dtype: float64"
            ]
          },
          "metadata": {
            "tags": []
          },
          "execution_count": 132
        }
      ]
    },
    {
      "cell_type": "code",
      "metadata": {
        "colab": {
          "base_uri": "https://localhost:8080/"
        },
        "id": "7sapRM0VuiQE",
        "outputId": "26c331fe-7ae7-4484-c414-05c834c6c324"
      },
      "source": [
        "vereador_SCS_2020['ST_REELEICAO'].value_counts()"
      ],
      "execution_count": null,
      "outputs": [
        {
          "output_type": "execute_result",
          "data": {
            "text/plain": [
              "N    364\n",
              "S      8\n",
              "Name: ST_REELEICAO, dtype: int64"
            ]
          },
          "metadata": {
            "tags": []
          },
          "execution_count": 133
        }
      ]
    },
    {
      "cell_type": "markdown",
      "metadata": {
        "id": "mciokAw8uwfM"
      },
      "source": [
        "De 372 candidatos ao cargo de vereador no município de São Caetano do Sul, apenas 8 candidatos ou 2,15% do total estão tentando a reeleição ao cargo, quando comparamos ao ano de 2016.\n",
        "\n",
        "---\n",
        "\n"
      ]
    },
    {
      "cell_type": "markdown",
      "metadata": {
        "id": "VcmgGSu0vz9O"
      },
      "source": [
        "# Distribuição etária dos candidatos"
      ]
    },
    {
      "cell_type": "code",
      "metadata": {
        "colab": {
          "base_uri": "https://localhost:8080/"
        },
        "id": "dCjDQQ2CwBRS",
        "outputId": "fad13b34-b919-4a05-b6c1-a86f1d5ea324"
      },
      "source": [
        "vereador_SCS_2020['NR_IDADE_DATA_POSSE'].value_counts().sort_index()"
      ],
      "execution_count": null,
      "outputs": [
        {
          "output_type": "execute_result",
          "data": {
            "text/plain": [
              "21      4\n",
              "22      1\n",
              "23      1\n",
              "24      1\n",
              "26      2\n",
              "27      5\n",
              "28      4\n",
              "29      1\n",
              "30      1\n",
              "31      4\n",
              "32      2\n",
              "33      6\n",
              "34      5\n",
              "35      2\n",
              "36      6\n",
              "37      4\n",
              "38     12\n",
              "39      8\n",
              "40     13\n",
              "41      7\n",
              "42      9\n",
              "43     10\n",
              "44     10\n",
              "45     14\n",
              "46     17\n",
              "47     19\n",
              "48     10\n",
              "49     14\n",
              "50      9\n",
              "51      6\n",
              "52      9\n",
              "53     13\n",
              "54     10\n",
              "55     14\n",
              "56     16\n",
              "57     10\n",
              "58      8\n",
              "59      9\n",
              "60      6\n",
              "61      6\n",
              "62      7\n",
              "63      7\n",
              "64     11\n",
              "65      7\n",
              "66      5\n",
              "67      3\n",
              "68      6\n",
              "69      4\n",
              "70      2\n",
              "71      4\n",
              "72      4\n",
              "74      1\n",
              "75      1\n",
              "76      1\n",
              "101     1\n",
              "Name: NR_IDADE_DATA_POSSE, dtype: int64"
            ]
          },
          "metadata": {
            "tags": []
          },
          "execution_count": 134
        }
      ]
    },
    {
      "cell_type": "code",
      "metadata": {
        "colab": {
          "base_uri": "https://localhost:8080/",
          "height": 377
        },
        "id": "L5ntWe8Zwkp7",
        "outputId": "2442a4f7-a095-44ad-8a7a-c100f6766529"
      },
      "source": [
        "vereador_SCS_2020['NR_IDADE_DATA_POSSE'].hist(bins = 10, figsize = (8,6));"
      ],
      "execution_count": null,
      "outputs": [
        {
          "output_type": "display_data",
          "data": {
            "image/png": "[encoded data removed]",
            "text/plain": [
              "<Figure size 576x432 with 1 Axes>"
            ]
          },
          "metadata": {
            "tags": []
          }
        }
      ]
    },
    {
      "cell_type": "markdown",
      "metadata": {
        "id": "rCWSoEeR0aBM"
      },
      "source": [
        "Pode-se observar que há uma concentração maior de candidatos na faixa dos 40 até 79 anos com maior prevalência na faixa de 50-59 anos de idade.\n",
        "Também pode-se observar que o candidato mais com idade mais avançada teria 101 anos na data da posse e que há 4 candidatos com idade de 21 anos na data da posse.\n",
        "\n",
        "\n",
        "\n",
        "---\n"
      ]
    },
    {
      "cell_type": "markdown",
      "metadata": {
        "id": "EhhOHLT41mB-"
      },
      "source": [
        "#Partidos políticos\n",
        "\n",
        "---\n",
        "Qual a relevância das candidaturas de esquerda em São Caetano do Sul?\n"
      ]
    },
    {
      "cell_type": "code",
      "metadata": {
        "colab": {
          "base_uri": "https://localhost:8080/"
        },
        "id": "iwbo-P9a1rjJ",
        "outputId": "a310e887-5f31-42f4-eda0-b612284c13ad"
      },
      "source": [
        "vereador_SCS_2020['SG_PARTIDO'].value_counts()"
      ],
      "execution_count": null,
      "outputs": [
        {
          "output_type": "execute_result",
          "data": {
            "text/plain": [
              "PRTB             29\n",
              "PSD              29\n",
              "PL               29\n",
              "PTB              29\n",
              "PODE             29\n",
              "AVANTE           29\n",
              "PSDB             29\n",
              "CIDADANIA        28\n",
              "PDT              22\n",
              "DEM              21\n",
              "PP               21\n",
              "REDE             20\n",
              "REPUBLICANOS     17\n",
              "PSOL             14\n",
              "PT                8\n",
              "PATRIOTA          6\n",
              "NOVO              6\n",
              "SOLIDARIEDADE     3\n",
              "PV                3\n",
              "Name: SG_PARTIDO, dtype: int64"
            ]
          },
          "metadata": {
            "tags": []
          },
          "execution_count": 136
        }
      ]
    },
    {
      "cell_type": "code",
      "metadata": {
        "colab": {
          "base_uri": "https://localhost:8080/",
          "height": 638
        },
        "id": "Y-PGwxVLmQbz",
        "outputId": "c1c1f0ff-95c3-4413-be87-5f2b64ac5953"
      },
      "source": [
        "df = {\n",
        "      'Partido' : ['PTB','PL', 'PRTB', 'AVANTE', 'PSD','PSDB','PODE','CIDADANIA',\n",
        "                  'PDT','PP','DEM','REDE','REPUBLICANOS','PSOL','PT','PATRIOTA',\n",
        "                  'NOVO','SOLIDARIEDADE','PV'],\n",
        "      \n",
        "       'Candidatos': ['29','29','29','29','29','29','29','28','22','21','21','20',\n",
        "                      '17','14','8','6','6','3','3'],\n",
        "      'Posicionamento': ['Direita', 'Direita', 'Direita', 'Direita', 'Direita',\n",
        "                         'Direita', 'Direita', 'Direita','Centro-esquerda', \n",
        "                         'Direita', 'Direita','Centro-esquerda', 'Direita',\n",
        "                         'Esquerda', 'Esquerda','Direita','Direita','Direita',\n",
        "                         'Direita']\n",
        "}\n",
        "df = pd.DataFrame(df)\n",
        "df          "
      ],
      "execution_count": null,
      "outputs": [
        {
          "output_type": "execute_result",
          "data": {
            "text/html": [
              "<div>\n",
              "<style scoped>\n",
              "    .dataframe tbody tr th:only-of-type {\n",
              "        vertical-align: middle;\n",
              "    }\n",
              "\n",
              "    .dataframe tbody tr th {\n",
              "        vertical-align: top;\n",
              "    }\n",
              "\n",
              "    .dataframe thead th {\n",
              "        text-align: right;\n",
              "    }\n",
              "</style>\n",
              "<table border=\"1\" class=\"dataframe\">\n",
              "  <thead>\n",
              "    <tr style=\"text-align: right;\">\n",
              "      <th></th>\n",
              "      <th>Partido</th>\n",
              "      <th>Candidatos</th>\n",
              "      <th>Posicionamento</th>\n",
              "    </tr>\n",
              "  </thead>\n",
              "  <tbody>\n",
              "    <tr>\n",
              "      <th>0</th>\n",
              "      <td>PTB</td>\n",
              "      <td>29</td>\n",
              "      <td>Direita</td>\n",
              "    </tr>\n",
              "    <tr>\n",
              "      <th>1</th>\n",
              "      <td>PL</td>\n",
              "      <td>29</td>\n",
              "      <td>Direita</td>\n",
              "    </tr>\n",
              "    <tr>\n",
              "      <th>2</th>\n",
              "      <td>PRTB</td>\n",
              "      <td>29</td>\n",
              "      <td>Direita</td>\n",
              "    </tr>\n",
              "    <tr>\n",
              "      <th>3</th>\n",
              "      <td>AVANTE</td>\n",
              "      <td>29</td>\n",
              "      <td>Direita</td>\n",
              "    </tr>\n",
              "    <tr>\n",
              "      <th>4</th>\n",
              "      <td>PSD</td>\n",
              "      <td>29</td>\n",
              "      <td>Direita</td>\n",
              "    </tr>\n",
              "    <tr>\n",
              "      <th>5</th>\n",
              "      <td>PSDB</td>\n",
              "      <td>29</td>\n",
              "      <td>Direita</td>\n",
              "    </tr>\n",
              "    <tr>\n",
              "      <th>6</th>\n",
              "      <td>PODE</td>\n",
              "      <td>29</td>\n",
              "      <td>Direita</td>\n",
              "    </tr>\n",
              "    <tr>\n",
              "      <th>7</th>\n",
              "      <td>CIDADANIA</td>\n",
              "      <td>28</td>\n",
              "      <td>Direita</td>\n",
              "    </tr>\n",
              "    <tr>\n",
              "      <th>8</th>\n",
              "      <td>PDT</td>\n",
              "      <td>22</td>\n",
              "      <td>Centro-esquerda</td>\n",
              "    </tr>\n",
              "    <tr>\n",
              "      <th>9</th>\n",
              "      <td>PP</td>\n",
              "      <td>21</td>\n",
              "      <td>Direita</td>\n",
              "    </tr>\n",
              "    <tr>\n",
              "      <th>10</th>\n",
              "      <td>DEM</td>\n",
              "      <td>21</td>\n",
              "      <td>Direita</td>\n",
              "    </tr>\n",
              "    <tr>\n",
              "      <th>11</th>\n",
              "      <td>REDE</td>\n",
              "      <td>20</td>\n",
              "      <td>Centro-esquerda</td>\n",
              "    </tr>\n",
              "    <tr>\n",
              "      <th>12</th>\n",
              "      <td>REPUBLICANOS</td>\n",
              "      <td>17</td>\n",
              "      <td>Direita</td>\n",
              "    </tr>\n",
              "    <tr>\n",
              "      <th>13</th>\n",
              "      <td>PSOL</td>\n",
              "      <td>14</td>\n",
              "      <td>Esquerda</td>\n",
              "    </tr>\n",
              "    <tr>\n",
              "      <th>14</th>\n",
              "      <td>PT</td>\n",
              "      <td>8</td>\n",
              "      <td>Esquerda</td>\n",
              "    </tr>\n",
              "    <tr>\n",
              "      <th>15</th>\n",
              "      <td>PATRIOTA</td>\n",
              "      <td>6</td>\n",
              "      <td>Direita</td>\n",
              "    </tr>\n",
              "    <tr>\n",
              "      <th>16</th>\n",
              "      <td>NOVO</td>\n",
              "      <td>6</td>\n",
              "      <td>Direita</td>\n",
              "    </tr>\n",
              "    <tr>\n",
              "      <th>17</th>\n",
              "      <td>SOLIDARIEDADE</td>\n",
              "      <td>3</td>\n",
              "      <td>Direita</td>\n",
              "    </tr>\n",
              "    <tr>\n",
              "      <th>18</th>\n",
              "      <td>PV</td>\n",
              "      <td>3</td>\n",
              "      <td>Direita</td>\n",
              "    </tr>\n",
              "  </tbody>\n",
              "</table>\n",
              "</div>"
            ],
            "text/plain": [
              "          Partido Candidatos   Posicionamento\n",
              "0             PTB         29          Direita\n",
              "1              PL         29          Direita\n",
              "2            PRTB         29          Direita\n",
              "3          AVANTE         29          Direita\n",
              "4             PSD         29          Direita\n",
              "5            PSDB         29          Direita\n",
              "6            PODE         29          Direita\n",
              "7       CIDADANIA         28          Direita\n",
              "8             PDT         22  Centro-esquerda\n",
              "9              PP         21          Direita\n",
              "10            DEM         21          Direita\n",
              "11           REDE         20  Centro-esquerda\n",
              "12   REPUBLICANOS         17          Direita\n",
              "13           PSOL         14         Esquerda\n",
              "14             PT          8         Esquerda\n",
              "15       PATRIOTA          6          Direita\n",
              "16           NOVO          6          Direita\n",
              "17  SOLIDARIEDADE          3          Direita\n",
              "18             PV          3          Direita"
            ]
          },
          "metadata": {
            "tags": []
          },
          "execution_count": 137
        }
      ]
    },
    {
      "cell_type": "code",
      "metadata": {
        "colab": {
          "base_uri": "https://localhost:8080/",
          "height": 364
        },
        "id": "GDWvQMuV2UXh",
        "outputId": "f4ede6d5-8beb-43f8-a547-d6de3a9548c9"
      },
      "source": [
        "vereador_SCS_2020['SG_PARTIDO'].value_counts(normalize=True).plot(kind='bar',title='Distribuição de candidaturas por partido');"
      ],
      "execution_count": null,
      "outputs": [
        {
          "output_type": "display_data",
          "data": {
            "image/png": "[encoded data removed]",
            "text/plain": [
              "<Figure size 432x288 with 1 Axes>"
            ]
          },
          "metadata": {
            "tags": []
          }
        }
      ]
    },
    {
      "cell_type": "markdown",
      "metadata": {
        "id": "xn-zsEyTD3U4"
      },
      "source": [
        "Pode-se observar que há a prevalência dos ditos partidos de direita e centro-direita no município de São Caetano do Sul. Sendo que, PL, PSD, AVANTE, PRTB, PODEMOS, PSDB, PTB e CIDADANIA são os partidos com maior número de postulantes ao cargo de vereador com 29 candidatos, por outro lado o SOLIDARIEDADE e o PV seguram a lanterninha nesse quesito com apenas 3 postulantes. Os candidatos de centro-esquerda e esquerda somam 64 candidaturas (17,20%) enquanto as 308 restantes (82,79%) são para siglas da direita.\n",
        "\n",
        "---\n",
        "\n"
      ]
    }
  ]
}