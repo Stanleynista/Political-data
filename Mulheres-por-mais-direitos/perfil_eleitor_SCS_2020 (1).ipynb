{
  "nbformat": 4,
  "nbformat_minor": 0,
  "metadata": {
    "colab": {
      "name": "perfil-eleitor-SCS-2020.ipynb",
      "provenance": [],
      "collapsed_sections": [
        "8CTFoXnDaiLp",
        "_hW2XAQpTLpS"
      ]
    },
    "kernelspec": {
      "name": "python3",
      "display_name": "Python 3"
    }
  },
  "cells": [
    {
      "cell_type": "markdown",
      "metadata": {
        "id": "R7yLfg8O4ype"
      },
      "source": [
        "# Importando Bibliotecas \n",
        "\n",
        "\n",
        "\n",
        "---\n",
        "\n",
        "\n",
        "Iremos importar as bibliotecas necessárias para a análise exploratória de alguns dados eleitorais dos anos de 2018 e 2020"
      ]
    },
    {
      "cell_type": "code",
      "metadata": {
        "id": "848_Icf7auFD"
      },
      "source": [
        "import pandas as pd\n",
        "import seaborn as sns\n",
        "from matplotlib import pyplot as plt\n",
        "sns.set()"
      ],
      "execution_count": null,
      "outputs": []
    },
    {
      "cell_type": "markdown",
      "metadata": {
        "id": "uozmahHJ44Tu"
      },
      "source": [
        "# Importando o dataset do perfil de eleitores Estado de SP em 2020\n",
        "\n",
        "\n",
        "\n",
        "---\n",
        "\n",
        "Estou importando uma base de dados dos eleitores aptos a voto no Estado de São Paulo"
      ]
    },
    {
      "cell_type": "code",
      "metadata": {
        "id": "oEVrV8gAbFY7"
      },
      "source": [
        "eleitor_2020 = pd.read_csv('/content/drive/My Drive/perfil_eleitor_secao_ATUAL_SP.csv', ';', encoding= 'iso-8859-1')"
      ],
      "execution_count": null,
      "outputs": []
    },
    {
      "cell_type": "markdown",
      "metadata": {
        "id": "w6JZ3c0L5ES_"
      },
      "source": [
        "# Conhecendo o dataset\n",
        "\n",
        "---\n",
        "\n",
        "\n",
        "\n",
        "Um exemplo de como é a base de dados dos eleitores"
      ]
    },
    {
      "cell_type": "code",
      "metadata": {
        "id": "UPrRkRh7sKF3",
        "colab": {
          "base_uri": "https://localhost:8080/",
          "height": 179
        },
        "outputId": "dcd967e9-cd6f-4a1e-9f81-292fafb437ae"
      },
      "source": [
        "eleitor_2020.sample(3)\n"
      ],
      "execution_count": null,
      "outputs": [
        {
          "output_type": "execute_result",
          "data": {
            "text/html": [
              "<div>\n",
              "<style scoped>\n",
              "    .dataframe tbody tr th:only-of-type {\n",
              "        vertical-align: middle;\n",
              "    }\n",
              "\n",
              "    .dataframe tbody tr th {\n",
              "        vertical-align: top;\n",
              "    }\n",
              "\n",
              "    .dataframe thead th {\n",
              "        text-align: right;\n",
              "    }\n",
              "</style>\n",
              "<table border=\"1\" class=\"dataframe\">\n",
              "  <thead>\n",
              "    <tr style=\"text-align: right;\">\n",
              "      <th></th>\n",
              "      <th>DT_GERACAO</th>\n",
              "      <th>HH_GERACAO</th>\n",
              "      <th>ANO_ELEICAO</th>\n",
              "      <th>SG_UF</th>\n",
              "      <th>CD_MUNICIPIO</th>\n",
              "      <th>NM_MUNICIPIO</th>\n",
              "      <th>CD_MUN_SIT_BIOMETRIA</th>\n",
              "      <th>DS_MUN_SIT_BIOMETRIA</th>\n",
              "      <th>NR_ZONA</th>\n",
              "      <th>NR_SECAO</th>\n",
              "      <th>CD_GENERO</th>\n",
              "      <th>DS_GENERO</th>\n",
              "      <th>CD_ESTADO_CIVIL</th>\n",
              "      <th>DS_ESTADO_CIVIL</th>\n",
              "      <th>CD_FAIXA_ETARIA</th>\n",
              "      <th>DS_FAIXA_ETARIA</th>\n",
              "      <th>CD_GRAU_ESCOLARIDADE</th>\n",
              "      <th>DS_GRAU_ESCOLARIDADE</th>\n",
              "      <th>QT_ELEITORES_PERFIL</th>\n",
              "      <th>QT_ELEITORES_BIOMETRIA</th>\n",
              "      <th>QT_ELEITORES_DEFICIENCIA</th>\n",
              "      <th>QT_ELEITORES_INC_NM_SOCIAL</th>\n",
              "    </tr>\n",
              "  </thead>\n",
              "  <tbody>\n",
              "    <tr>\n",
              "      <th>14324359</th>\n",
              "      <td>10/10/2020</td>\n",
              "      <td>15:24:37</td>\n",
              "      <td>9999</td>\n",
              "      <td>SP</td>\n",
              "      <td>61816</td>\n",
              "      <td>ATIBAIA</td>\n",
              "      <td>-2</td>\n",
              "      <td>Não se aplica</td>\n",
              "      <td>16</td>\n",
              "      <td>399</td>\n",
              "      <td>2</td>\n",
              "      <td>MASCULINO</td>\n",
              "      <td>1</td>\n",
              "      <td>SOLTEIRO</td>\n",
              "      <td>2124</td>\n",
              "      <td>21 a 24 anos</td>\n",
              "      <td>6</td>\n",
              "      <td>ENSINO MÉDIO COMPLETO</td>\n",
              "      <td>2</td>\n",
              "      <td>1</td>\n",
              "      <td>0</td>\n",
              "      <td>0</td>\n",
              "    </tr>\n",
              "    <tr>\n",
              "      <th>1614321</th>\n",
              "      <td>10/10/2020</td>\n",
              "      <td>15:24:37</td>\n",
              "      <td>9999</td>\n",
              "      <td>SP</td>\n",
              "      <td>68314</td>\n",
              "      <td>PAULÍNIA</td>\n",
              "      <td>-2</td>\n",
              "      <td>Não se aplica</td>\n",
              "      <td>323</td>\n",
              "      <td>129</td>\n",
              "      <td>2</td>\n",
              "      <td>MASCULINO</td>\n",
              "      <td>5</td>\n",
              "      <td>VIÚVO</td>\n",
              "      <td>6064</td>\n",
              "      <td>60 a 64 anos</td>\n",
              "      <td>2</td>\n",
              "      <td>LÊ E ESCREVE</td>\n",
              "      <td>1</td>\n",
              "      <td>1</td>\n",
              "      <td>0</td>\n",
              "      <td>0</td>\n",
              "    </tr>\n",
              "    <tr>\n",
              "      <th>7208987</th>\n",
              "      <td>10/10/2020</td>\n",
              "      <td>15:24:37</td>\n",
              "      <td>9999</td>\n",
              "      <td>SP</td>\n",
              "      <td>61735</td>\n",
              "      <td>ARIRANHA</td>\n",
              "      <td>-2</td>\n",
              "      <td>Não se aplica</td>\n",
              "      <td>111</td>\n",
              "      <td>57</td>\n",
              "      <td>2</td>\n",
              "      <td>MASCULINO</td>\n",
              "      <td>3</td>\n",
              "      <td>CASADO</td>\n",
              "      <td>8084</td>\n",
              "      <td>80 a 84 anos</td>\n",
              "      <td>2</td>\n",
              "      <td>LÊ E ESCREVE</td>\n",
              "      <td>1</td>\n",
              "      <td>0</td>\n",
              "      <td>0</td>\n",
              "      <td>0</td>\n",
              "    </tr>\n",
              "  </tbody>\n",
              "</table>\n",
              "</div>"
            ],
            "text/plain": [
              "          DT_GERACAO  ... QT_ELEITORES_INC_NM_SOCIAL\n",
              "14324359  10/10/2020  ...                          0\n",
              "1614321   10/10/2020  ...                          0\n",
              "7208987   10/10/2020  ...                          0\n",
              "\n",
              "[3 rows x 22 columns]"
            ]
          },
          "metadata": {
            "tags": []
          },
          "execution_count": 239
        }
      ]
    },
    {
      "cell_type": "markdown",
      "metadata": {
        "id": "b6GFNmw35OFq"
      },
      "source": [
        "# Modelagem do Dataset\n",
        "\n",
        "---\n",
        "\n"
      ]
    },
    {
      "cell_type": "code",
      "metadata": {
        "id": "IRNjeFfMsfPd"
      },
      "source": [
        "eleitor_SCS_2020 = eleitor_2020[eleitor_2020['NM_MUNICIPIO'] == 'SÃO CAETANO DO SUL']"
      ],
      "execution_count": null,
      "outputs": []
    },
    {
      "cell_type": "code",
      "metadata": {
        "id": "xExXExnQtpEL"
      },
      "source": [
        "eleitor_SCS_2020 = eleitor_SCS_2020.filter(items=['NR_ZONA','NR_SECAO','DS_GENERO',\n",
        "                                                  'DS_ESTADO_CIVIL', 'DS_FAIXA_ETARIA',\n",
        "                                                  'DS_GRAU_ESCOLARIDADE'])"
      ],
      "execution_count": null,
      "outputs": []
    },
    {
      "cell_type": "code",
      "metadata": {
        "id": "QGNkWyD_urwg",
        "colab": {
          "base_uri": "https://localhost:8080/",
          "height": 142
        },
        "outputId": "bd8e1acf-d72e-4f83-9246-706488857462"
      },
      "source": [
        "eleitor_SCS_2020.sample(3)"
      ],
      "execution_count": null,
      "outputs": [
        {
          "output_type": "execute_result",
          "data": {
            "text/html": [
              "<div>\n",
              "<style scoped>\n",
              "    .dataframe tbody tr th:only-of-type {\n",
              "        vertical-align: middle;\n",
              "    }\n",
              "\n",
              "    .dataframe tbody tr th {\n",
              "        vertical-align: top;\n",
              "    }\n",
              "\n",
              "    .dataframe thead th {\n",
              "        text-align: right;\n",
              "    }\n",
              "</style>\n",
              "<table border=\"1\" class=\"dataframe\">\n",
              "  <thead>\n",
              "    <tr style=\"text-align: right;\">\n",
              "      <th></th>\n",
              "      <th>NR_ZONA</th>\n",
              "      <th>NR_SECAO</th>\n",
              "      <th>DS_GENERO</th>\n",
              "      <th>DS_ESTADO_CIVIL</th>\n",
              "      <th>DS_FAIXA_ETARIA</th>\n",
              "      <th>DS_GRAU_ESCOLARIDADE</th>\n",
              "    </tr>\n",
              "  </thead>\n",
              "  <tbody>\n",
              "    <tr>\n",
              "      <th>8383353</th>\n",
              "      <td>269</td>\n",
              "      <td>64</td>\n",
              "      <td>FEMININO</td>\n",
              "      <td>VIÚVO</td>\n",
              "      <td>60 a 64 anos</td>\n",
              "      <td>ENSINO FUNDAMENTAL COMPLETO</td>\n",
              "    </tr>\n",
              "    <tr>\n",
              "      <th>8680939</th>\n",
              "      <td>269</td>\n",
              "      <td>133</td>\n",
              "      <td>MASCULINO</td>\n",
              "      <td>SOLTEIRO</td>\n",
              "      <td>50 a 54 anos</td>\n",
              "      <td>ENSINO FUNDAMENTAL INCOMPLETO</td>\n",
              "    </tr>\n",
              "    <tr>\n",
              "      <th>3350065</th>\n",
              "      <td>166</td>\n",
              "      <td>90</td>\n",
              "      <td>MASCULINO</td>\n",
              "      <td>CASADO</td>\n",
              "      <td>65 a 69 anos</td>\n",
              "      <td>ENSINO FUNDAMENTAL COMPLETO</td>\n",
              "    </tr>\n",
              "  </tbody>\n",
              "</table>\n",
              "</div>"
            ],
            "text/plain": [
              "         NR_ZONA  ...           DS_GRAU_ESCOLARIDADE\n",
              "8383353      269  ...    ENSINO FUNDAMENTAL COMPLETO\n",
              "8680939      269  ...  ENSINO FUNDAMENTAL INCOMPLETO\n",
              "3350065      166  ...    ENSINO FUNDAMENTAL COMPLETO\n",
              "\n",
              "[3 rows x 6 columns]"
            ]
          },
          "metadata": {
            "tags": []
          },
          "execution_count": 242
        }
      ]
    },
    {
      "cell_type": "markdown",
      "metadata": {
        "id": "xpiT_JBFNFEe"
      },
      "source": [
        "# Explorando o dataset\n",
        "\n",
        "---\n",
        "Irei verificar algumas categoria e tentar obter alguns insights a partir dos dados disponíveis.\n"
      ]
    },
    {
      "cell_type": "code",
      "metadata": {
        "id": "0dFScWil8vur",
        "colab": {
          "base_uri": "https://localhost:8080/",
          "height": 622
        },
        "outputId": "85f9fa53-9b26-4197-c32a-7e613341f75e"
      },
      "source": [
        "# Distribuição gráfica de eleitores por faixa etária em ordem decrescente\n",
        "\n",
        "eleitor_SCS_2020['DS_FAIXA_ETARIA'].value_counts().plot(kind='bar',figsize=(12,8));"
      ],
      "execution_count": null,
      "outputs": [
        {
          "output_type": "display_data",
          "data": {
            "image/png": "[encoded data removed]",
            "text/plain": [
              "<Figure size 864x576 with 1 Axes>"
            ]
          },
          "metadata": {
            "tags": []
          }
        }
      ]
    },
    {
      "cell_type": "code",
      "metadata": {
        "id": "V1OLyfxqB-oq",
        "colab": {
          "base_uri": "https://localhost:8080/",
          "height": 482
        },
        "outputId": "d30db7d0-8f96-4cf2-e9c7-5e708d33c028"
      },
      "source": [
        "# Distribuição gráfica do eleitorado por gênero\n",
        "\n",
        "eleitor_SCS_2020['DS_GENERO'].value_counts().plot(kind='pie', autopct='%1.2f%%', title= 'Perfil do eleitor por gênero', figsize=(8,8));"
      ],
      "execution_count": null,
      "outputs": [
        {
          "output_type": "display_data",
          "data": {
            "image/png": "[encoded data removed]",
            "text/plain": [
              "<Figure size 576x576 with 1 Axes>"
            ]
          },
          "metadata": {
            "tags": []
          }
        }
      ]
    },
    {
      "cell_type": "code",
      "metadata": {
        "id": "aBsoQ_5C1Xgj",
        "colab": {
          "base_uri": "https://localhost:8080/"
        },
        "outputId": "84104eeb-5822-4f94-e860-0d39be9724a3"
      },
      "source": [
        "# Distribuição percentual do eleitorado feminino por grau de escolaridade em ordem decrescente\n",
        "\n",
        "eleitor_SCS_2020[eleitor_SCS_2020['DS_GENERO'] == 'FEMININO'] ['DS_GRAU_ESCOLARIDADE'].value_counts(normalize=True)*100"
      ],
      "execution_count": null,
      "outputs": [
        {
          "output_type": "execute_result",
          "data": {
            "text/plain": [
              "ENSINO MÉDIO COMPLETO            24.792823\n",
              "SUPERIOR COMPLETO                24.542895\n",
              "ENSINO FUNDAMENTAL INCOMPLETO    15.482360\n",
              "ENSINO FUNDAMENTAL COMPLETO      10.944200\n",
              "SUPERIOR INCOMPLETO              10.781090\n",
              "ENSINO MÉDIO INCOMPLETO          10.052353\n",
              "LÊ E ESCREVE                      2.970193\n",
              "ANALFABETO                        0.434085\n",
              "Name: DS_GRAU_ESCOLARIDADE, dtype: float64"
            ]
          },
          "metadata": {
            "tags": []
          },
          "execution_count": 245
        }
      ]
    },
    {
      "cell_type": "code",
      "metadata": {
        "id": "4NUludMPZwh0",
        "colab": {
          "base_uri": "https://localhost:8080/",
          "height": 571
        },
        "outputId": "86fff2c0-e07c-4832-d304-85142a4f59cf"
      },
      "source": [
        "eleitor_SCS_2020[eleitor_SCS_2020['DS_GENERO'] == 'FEMININO'] ['DS_GRAU_ESCOLARIDADE'].value_counts().plot(kind='bar',figsize=(6,6));"
      ],
      "execution_count": null,
      "outputs": [
        {
          "output_type": "display_data",
          "data": {
            "image/png": "[encoded data removed]",
            "text/plain": [
              "<Figure size 432x432 with 1 Axes>"
            ]
          },
          "metadata": {
            "tags": []
          }
        }
      ]
    },
    {
      "cell_type": "code",
      "metadata": {
        "id": "eW89NoYP2HF0",
        "colab": {
          "base_uri": "https://localhost:8080/"
        },
        "outputId": "1e667132-3833-4d6e-e953-007907fc72bd"
      },
      "source": [
        "# Distribuição percentual do eleitorado masculino por grau de escolaridade em ordem decrescente\n",
        "\n",
        "eleitor_SCS_2020[eleitor_SCS_2020['DS_GENERO'] == 'MASCULINO'] ['DS_GRAU_ESCOLARIDADE'].value_counts(normalize=True)*100"
      ],
      "execution_count": null,
      "outputs": [
        {
          "output_type": "execute_result",
          "data": {
            "text/plain": [
              "SUPERIOR COMPLETO                24.844378\n",
              "ENSINO MÉDIO COMPLETO            24.335365\n",
              "ENSINO FUNDAMENTAL INCOMPLETO    13.678511\n",
              "SUPERIOR INCOMPLETO              12.427052\n",
              "ENSINO MÉDIO INCOMPLETO          12.018545\n",
              "ENSINO FUNDAMENTAL COMPLETO      10.504474\n",
              "LÊ E ESCREVE                      1.851251\n",
              "ANALFABETO                        0.340423\n",
              "Name: DS_GRAU_ESCOLARIDADE, dtype: float64"
            ]
          },
          "metadata": {
            "tags": []
          },
          "execution_count": 247
        }
      ]
    },
    {
      "cell_type": "code",
      "metadata": {
        "id": "bB8tuXnuZ7o0",
        "colab": {
          "base_uri": "https://localhost:8080/",
          "height": 573
        },
        "outputId": "62ac29f5-929e-414d-fbe3-9983b4c98069"
      },
      "source": [
        "eleitor_SCS_2020[eleitor_SCS_2020['DS_GENERO'] == 'MASCULINO'] ['DS_GRAU_ESCOLARIDADE'].value_counts().plot(kind='bar',figsize=(6,6));"
      ],
      "execution_count": null,
      "outputs": [
        {
          "output_type": "display_data",
          "data": {
            "image/png": "[encoded data removed]",
            "text/plain": [
              "<Figure size 432x432 with 1 Axes>"
            ]
          },
          "metadata": {
            "tags": []
          }
        }
      ]
    },
    {
      "cell_type": "code",
      "metadata": {
        "id": "R0MGMzI42UOS",
        "colab": {
          "base_uri": "https://localhost:8080/"
        },
        "outputId": "e79e3922-2cd9-43ca-8ed2-5abf668d4147"
      },
      "source": [
        "# Distribuição percentual por gênero de eleitores com grau de escolaridade declarado como SUPERIOR COMPLETO\n",
        "\n",
        "eleitor_SCS_2020[eleitor_SCS_2020['DS_GRAU_ESCOLARIDADE'] == 'SUPERIOR COMPLETO'] ['DS_GENERO'].value_counts(normalize=True)*100"
      ],
      "execution_count": null,
      "outputs": [
        {
          "output_type": "execute_result",
          "data": {
            "text/plain": [
              "FEMININO     54.902307\n",
              "MASCULINO    45.097693\n",
              "Name: DS_GENERO, dtype: float64"
            ]
          },
          "metadata": {
            "tags": []
          },
          "execution_count": 249
        }
      ]
    },
    {
      "cell_type": "code",
      "metadata": {
        "id": "aUQsBDMX3TRS",
        "colab": {
          "base_uri": "https://localhost:8080/"
        },
        "outputId": "87544074-3018-4c20-b931-e19b32191cc4"
      },
      "source": [
        "# Números absolutos por gênero de eleitores com grau de escolaridade declarado como SUPERIOR COMPLETO\n",
        "\n",
        "eleitor_SCS_2020[eleitor_SCS_2020['DS_GRAU_ESCOLARIDADE'] == 'SUPERIOR COMPLETO'] ['DS_GENERO'].value_counts()"
      ],
      "execution_count": null,
      "outputs": [
        {
          "output_type": "execute_result",
          "data": {
            "text/plain": [
              "FEMININO     9329\n",
              "MASCULINO    7663\n",
              "Name: DS_GENERO, dtype: int64"
            ]
          },
          "metadata": {
            "tags": []
          },
          "execution_count": 250
        }
      ]
    },
    {
      "cell_type": "code",
      "metadata": {
        "id": "pFhMWv8h2o84",
        "colab": {
          "base_uri": "https://localhost:8080/",
          "height": 373
        },
        "outputId": "25a4ad6d-a2cd-4759-9f0b-755d2820da6c"
      },
      "source": [
        "# Distribuição gráfica por gênero de eleitores com grau de escolaridade declarado como SUPERIOR COMPLETO\n",
        "\n",
        "eleitor_SCS_2020[eleitor_SCS_2020['DS_GRAU_ESCOLARIDADE'] == 'SUPERIOR COMPLETO'] ['DS_GENERO'].value_counts(normalize=True).plot(kind='pie', autopct='%1.2f%%',title='Percentual do eleitorado com ensino superior', figsize=(6,6));"
      ],
      "execution_count": null,
      "outputs": [
        {
          "output_type": "display_data",
          "data": {
            "image/png": "[encoded data removed]",
            "text/plain": [
              "<Figure size 432x432 with 1 Axes>"
            ]
          },
          "metadata": {
            "tags": []
          }
        }
      ]
    },
    {
      "cell_type": "markdown",
      "metadata": {
        "id": "N7dwmcn4X7lu"
      },
      "source": [
        "O eleitorado do munícipio de São Caetano do Sul tem uma concentração maior de pessoas na faixa etária dos 50 aos 65 anos, sendo estes grupos os com maior prevalência dentre aqueles aptos ao voto. O número de mulheres é maior, representando quase 55% do eleitorado, contra 45% de homens."
      ]
    },
    {
      "cell_type": "markdown",
      "metadata": {
        "id": "_nX5jI2WMtv8"
      },
      "source": [
        "# Análise sobre os dados de abstenções dos anos de 2016 e 2018\n",
        "\n",
        "---\n",
        "\n",
        "\n"
      ]
    },
    {
      "cell_type": "markdown",
      "metadata": {
        "id": "8CTFoXnDaiLp"
      },
      "source": [
        "## Importando os Datasets\n",
        "\n",
        "---\n",
        "Datasets coletados no site do TSE, referentes aos pleitos de 2016 e 2018.\n"
      ]
    },
    {
      "cell_type": "code",
      "metadata": {
        "id": "JGUdYCJS4GOr"
      },
      "source": [
        "abstencao_2016 = pd.read_csv('/content/drive/My Drive/perfil_comparecimento_abstencao_2016.csv', sep=';', encoding='iso-8859-1')"
      ],
      "execution_count": null,
      "outputs": []
    },
    {
      "cell_type": "code",
      "metadata": {
        "id": "-Pdi-0fn4MHK"
      },
      "source": [
        "abstencao_2018 = pd.read_csv('/content/drive/My Drive/perfil_comparecimento_abstencao_2018.csv', sep=';', encoding='iso-8859-1')"
      ],
      "execution_count": null,
      "outputs": []
    },
    {
      "cell_type": "markdown",
      "metadata": {
        "id": "rfWKuKlcPFwi"
      },
      "source": [
        "# Modelagem do Dataset\n",
        "\n",
        "---\n"
      ]
    },
    {
      "cell_type": "code",
      "metadata": {
        "id": "hU0iV5Cp-A7W"
      },
      "source": [
        "abstencao_2016 = abstencao_2016.filter(items = ['NM_MUNICIPIO', 'NR_ZONA', 'DS_GENERO', 'DS_ESTADO_CIVIL', 'DS_FAIXA_ETARIA', 'DS_GRAU_ESCOLARIDADE' ])\n",
        "\n",
        "abstencao_2016_SCS = abstencao_2016[abstencao_2016['NM_MUNICIPIO'] == 'SÃO CAETANO DO SUL']\n",
        "\n",
        "abstencao_2016_SCS = abstencao_2016_SCS.filter (items= ['NR_ZONA','DS_GENERO', 'DS_ESTADO_CIVIL', 'DS_FAIXA_ETARIA', 'DS_GRAU_ESCOLARIDADE' ])"
      ],
      "execution_count": null,
      "outputs": []
    },
    {
      "cell_type": "code",
      "metadata": {
        "id": "JpEdASg4-zaY",
        "colab": {
          "base_uri": "https://localhost:8080/",
          "height": 142
        },
        "outputId": "9774bc4c-ee02-471b-86d3-215e076d7c19"
      },
      "source": [
        "abstencao_2016_SCS.sample(3)"
      ],
      "execution_count": null,
      "outputs": [
        {
          "output_type": "execute_result",
          "data": {
            "text/html": [
              "<div>\n",
              "<style scoped>\n",
              "    .dataframe tbody tr th:only-of-type {\n",
              "        vertical-align: middle;\n",
              "    }\n",
              "\n",
              "    .dataframe tbody tr th {\n",
              "        vertical-align: top;\n",
              "    }\n",
              "\n",
              "    .dataframe thead th {\n",
              "        text-align: right;\n",
              "    }\n",
              "</style>\n",
              "<table border=\"1\" class=\"dataframe\">\n",
              "  <thead>\n",
              "    <tr style=\"text-align: right;\">\n",
              "      <th></th>\n",
              "      <th>NR_ZONA</th>\n",
              "      <th>DS_GENERO</th>\n",
              "      <th>DS_ESTADO_CIVIL</th>\n",
              "      <th>DS_FAIXA_ETARIA</th>\n",
              "      <th>DS_GRAU_ESCOLARIDADE</th>\n",
              "    </tr>\n",
              "  </thead>\n",
              "  <tbody>\n",
              "    <tr>\n",
              "      <th>1339950</th>\n",
              "      <td>166</td>\n",
              "      <td>FEMININO</td>\n",
              "      <td>DIVORCIADO</td>\n",
              "      <td>65 a 69 anos</td>\n",
              "      <td>SUPERIOR INCOMPLETO</td>\n",
              "    </tr>\n",
              "    <tr>\n",
              "      <th>1338534</th>\n",
              "      <td>166</td>\n",
              "      <td>FEMININO</td>\n",
              "      <td>SOLTEIRO</td>\n",
              "      <td>30 a 34 anos</td>\n",
              "      <td>ENSINO FUNDAMENTAL COMPLETO</td>\n",
              "    </tr>\n",
              "    <tr>\n",
              "      <th>3577476</th>\n",
              "      <td>269</td>\n",
              "      <td>FEMININO</td>\n",
              "      <td>SEPARADO JUDICIALMENTE</td>\n",
              "      <td>55 a 59 anos</td>\n",
              "      <td>SUPERIOR INCOMPLETO</td>\n",
              "    </tr>\n",
              "  </tbody>\n",
              "</table>\n",
              "</div>"
            ],
            "text/plain": [
              "         NR_ZONA DS_GENERO  ... DS_FAIXA_ETARIA         DS_GRAU_ESCOLARIDADE\n",
              "1339950      166  FEMININO  ...    65 a 69 anos          SUPERIOR INCOMPLETO\n",
              "1338534      166  FEMININO  ...    30 a 34 anos  ENSINO FUNDAMENTAL COMPLETO\n",
              "3577476      269  FEMININO  ...    55 a 59 anos          SUPERIOR INCOMPLETO\n",
              "\n",
              "[3 rows x 5 columns]"
            ]
          },
          "metadata": {
            "tags": []
          },
          "execution_count": 255
        }
      ]
    },
    {
      "cell_type": "code",
      "metadata": {
        "id": "lBjP84fa_WmJ"
      },
      "source": [
        "abstencao_2018 = abstencao_2018.filter(items = ['NM_MUNICIPIO', 'NR_ZONA', 'DS_GENERO', 'DS_ESTADO_CIVIL', 'DS_FAIXA_ETARIA', 'DS_GRAU_ESCOLARIDADE' ])\n",
        "\n",
        "abstencao_2018_SCS = abstencao_2018[abstencao_2018['NM_MUNICIPIO'] == 'SÃO CAETANO DO SUL']\n",
        "\n",
        "abstencao_2018_SCS = abstencao_2018_SCS.filter (items= ['NR_ZONA','DS_GENERO', 'DS_ESTADO_CIVIL', 'DS_FAIXA_ETARIA', 'DS_GRAU_ESCOLARIDADE' ])"
      ],
      "execution_count": null,
      "outputs": []
    },
    {
      "cell_type": "code",
      "metadata": {
        "id": "EcWwf-NEMh4Z",
        "colab": {
          "base_uri": "https://localhost:8080/",
          "height": 142
        },
        "outputId": "99894c90-d9c2-4e74-b54c-28d6b2bb262c"
      },
      "source": [
        "abstencao_2016_SCS.sample(3)"
      ],
      "execution_count": null,
      "outputs": [
        {
          "output_type": "execute_result",
          "data": {
            "text/html": [
              "<div>\n",
              "<style scoped>\n",
              "    .dataframe tbody tr th:only-of-type {\n",
              "        vertical-align: middle;\n",
              "    }\n",
              "\n",
              "    .dataframe tbody tr th {\n",
              "        vertical-align: top;\n",
              "    }\n",
              "\n",
              "    .dataframe thead th {\n",
              "        text-align: right;\n",
              "    }\n",
              "</style>\n",
              "<table border=\"1\" class=\"dataframe\">\n",
              "  <thead>\n",
              "    <tr style=\"text-align: right;\">\n",
              "      <th></th>\n",
              "      <th>NR_ZONA</th>\n",
              "      <th>DS_GENERO</th>\n",
              "      <th>DS_ESTADO_CIVIL</th>\n",
              "      <th>DS_FAIXA_ETARIA</th>\n",
              "      <th>DS_GRAU_ESCOLARIDADE</th>\n",
              "    </tr>\n",
              "  </thead>\n",
              "  <tbody>\n",
              "    <tr>\n",
              "      <th>1339939</th>\n",
              "      <td>166</td>\n",
              "      <td>FEMININO</td>\n",
              "      <td>SEPARADO JUDICIALMENTE</td>\n",
              "      <td>85 a 89 anos</td>\n",
              "      <td>ENSINO MÉDIO COMPLETO</td>\n",
              "    </tr>\n",
              "    <tr>\n",
              "      <th>1494711</th>\n",
              "      <td>166</td>\n",
              "      <td>FEMININO</td>\n",
              "      <td>DIVORCIADO</td>\n",
              "      <td>60 a 64 anos</td>\n",
              "      <td>ENSINO FUNDAMENTAL INCOMPLETO</td>\n",
              "    </tr>\n",
              "    <tr>\n",
              "      <th>1388164</th>\n",
              "      <td>269</td>\n",
              "      <td>FEMININO</td>\n",
              "      <td>CASADO</td>\n",
              "      <td>75 a 79 anos</td>\n",
              "      <td>ENSINO FUNDAMENTAL INCOMPLETO</td>\n",
              "    </tr>\n",
              "  </tbody>\n",
              "</table>\n",
              "</div>"
            ],
            "text/plain": [
              "         NR_ZONA DS_GENERO  ... DS_FAIXA_ETARIA           DS_GRAU_ESCOLARIDADE\n",
              "1339939      166  FEMININO  ...    85 a 89 anos          ENSINO MÉDIO COMPLETO\n",
              "1494711      166  FEMININO  ...    60 a 64 anos  ENSINO FUNDAMENTAL INCOMPLETO\n",
              "1388164      269  FEMININO  ...    75 a 79 anos  ENSINO FUNDAMENTAL INCOMPLETO\n",
              "\n",
              "[3 rows x 5 columns]"
            ]
          },
          "metadata": {
            "tags": []
          },
          "execution_count": 257
        }
      ]
    },
    {
      "cell_type": "code",
      "metadata": {
        "id": "OBJ4in8pD5cK",
        "colab": {
          "base_uri": "https://localhost:8080/",
          "height": 80
        },
        "outputId": "7fc1e87a-e25d-460c-e07b-03308b97ba20"
      },
      "source": [
        "df = {\n",
        "      '2016' : [1880],\n",
        "      \n",
        "       '2018': [3856]\n",
        "    \n",
        "}\n",
        "df = pd.DataFrame(df)\n",
        "df          "
      ],
      "execution_count": null,
      "outputs": [
        {
          "output_type": "execute_result",
          "data": {
            "text/html": [
              "<div>\n",
              "<style scoped>\n",
              "    .dataframe tbody tr th:only-of-type {\n",
              "        vertical-align: middle;\n",
              "    }\n",
              "\n",
              "    .dataframe tbody tr th {\n",
              "        vertical-align: top;\n",
              "    }\n",
              "\n",
              "    .dataframe thead th {\n",
              "        text-align: right;\n",
              "    }\n",
              "</style>\n",
              "<table border=\"1\" class=\"dataframe\">\n",
              "  <thead>\n",
              "    <tr style=\"text-align: right;\">\n",
              "      <th></th>\n",
              "      <th>2016</th>\n",
              "      <th>2018</th>\n",
              "    </tr>\n",
              "  </thead>\n",
              "  <tbody>\n",
              "    <tr>\n",
              "      <th>0</th>\n",
              "      <td>1880</td>\n",
              "      <td>3856</td>\n",
              "    </tr>\n",
              "  </tbody>\n",
              "</table>\n",
              "</div>"
            ],
            "text/plain": [
              "   2016  2018\n",
              "0  1880  3856"
            ]
          },
          "metadata": {
            "tags": []
          },
          "execution_count": 258
        }
      ]
    },
    {
      "cell_type": "code",
      "metadata": {
        "id": "KLnxdgvCKrHJ",
        "colab": {
          "base_uri": "https://localhost:8080/",
          "height": 498
        },
        "outputId": "d4dc47c3-2567-43c5-ba69-f19107983ee9"
      },
      "source": [
        "df.plot(kind='bar',title='Abstenções por ano', figsize=(8,8));"
      ],
      "execution_count": null,
      "outputs": [
        {
          "output_type": "display_data",
          "data": {
            "image/png": "[encoded data removed]",
            "text/plain": [
              "<Figure size 576x576 with 1 Axes>"
            ]
          },
          "metadata": {
            "tags": []
          }
        }
      ]
    },
    {
      "cell_type": "markdown",
      "metadata": {
        "id": "k0mstwqfK9kt"
      },
      "source": [
        "Pode-se observar um aumento significativo do número de abstenções se compararmos as eleições municipais de 2016 para o primeiro turno das eleições de 2018 na cidade de São Caetano do Sul. O número saltou de 1880 para 3856, um aumento de mais de 105%. Deve-se ressaltar que em 2018 houve segundo turno para eleições presidenciais e estaduais e esse aumento, apesar de significativo, é entendível pelo pressuposto da recorrência da abstenção."
      ]
    },
    {
      "cell_type": "markdown",
      "metadata": {
        "id": "Z85WeE-OPI_a"
      },
      "source": [
        "# Hipóteses\n",
        "\n",
        "---\n",
        "\n",
        "Iremos observar os números de abstenções sobre as categorias: Zona eleitoral, gênero, faixa etaria e escolaridade."
      ]
    },
    {
      "cell_type": "markdown",
      "metadata": {
        "id": "_hW2XAQpTLpS"
      },
      "source": [
        "### Quem mais se abstém, homens ou mulheres?"
      ]
    },
    {
      "cell_type": "code",
      "metadata": {
        "id": "BCMf4iQIP82F",
        "colab": {
          "base_uri": "https://localhost:8080/"
        },
        "outputId": "1db6b64a-a35d-43f6-8aad-92bc7fdff0fe"
      },
      "source": [
        "# Abstenção por gênero (2016)\n",
        "\n",
        "abstencao_2016_scs['DS_GENERO'].value_counts(normalize=True)*100 \n"
      ],
      "execution_count": null,
      "outputs": [
        {
          "output_type": "execute_result",
          "data": {
            "text/plain": [
              "FEMININO         52.446809\n",
              "MASCULINO        46.329787\n",
              "NÃO INFORMADO     1.223404\n",
              "Name: DS_GENERO, dtype: float64"
            ]
          },
          "metadata": {
            "tags": []
          },
          "execution_count": 260
        }
      ]
    },
    {
      "cell_type": "code",
      "metadata": {
        "id": "gqHA2CyxPvcA",
        "colab": {
          "base_uri": "https://localhost:8080/"
        },
        "outputId": "5dfea205-8d9f-4e01-f6fe-994ce7f69151"
      },
      "source": [
        "# Abstenção por gênero (2018)\n",
        "\n",
        "abstencao_2018_scs['DS_GENERO'].value_counts(normalize=True)*100 "
      ],
      "execution_count": null,
      "outputs": [
        {
          "output_type": "execute_result",
          "data": {
            "text/plain": [
              "FEMININO         52.385892\n",
              "MASCULINO        46.732365\n",
              "NÃO INFORMADO     0.881743\n",
              "Name: DS_GENERO, dtype: float64"
            ]
          },
          "metadata": {
            "tags": []
          },
          "execution_count": 261
        }
      ]
    },
    {
      "cell_type": "markdown",
      "metadata": {
        "id": "uIHJRJVbTbDa"
      },
      "source": [
        "Há uma tendência que se manteve nos dois pleitos, mulheres se abstém um pouco mais que os homens, 52% contra 46% em ambas as eleições.\n",
        "\n",
        "---\n",
        "\n",
        "\n",
        "\n"
      ]
    },
    {
      "cell_type": "markdown",
      "metadata": {
        "id": "X1T5lqMuT3L3"
      },
      "source": [
        "# Como essas abstenções se distribuem pelas zonas eleitorais?"
      ]
    },
    {
      "cell_type": "code",
      "metadata": {
        "id": "iGxNJtcVQFMZ",
        "colab": {
          "base_uri": "https://localhost:8080/"
        },
        "outputId": "f9f9a55a-7e7a-4731-f53e-705ed62c3d3e"
      },
      "source": [
        "# Abstenção por zona eleitoral (2016)\n",
        "\n",
        "abstencao_2016_scs['NR_ZONA'].value_counts(normalize=True)*100 "
      ],
      "execution_count": null,
      "outputs": [
        {
          "output_type": "execute_result",
          "data": {
            "text/plain": [
              "269    50.37234\n",
              "166    49.62766\n",
              "Name: NR_ZONA, dtype: float64"
            ]
          },
          "metadata": {
            "tags": []
          },
          "execution_count": 262
        }
      ]
    },
    {
      "cell_type": "code",
      "metadata": {
        "id": "ihr7mcIbQU6_",
        "colab": {
          "base_uri": "https://localhost:8080/"
        },
        "outputId": "88c4af71-7274-4466-a7d1-e6e49cf6c16f"
      },
      "source": [
        "# Abstenção por zona eleitoral (2018)\n",
        "\n",
        "abstencao_2018_scs['NR_ZONA'].value_counts(normalize=True)*100"
      ],
      "execution_count": null,
      "outputs": [
        {
          "output_type": "execute_result",
          "data": {
            "text/plain": [
              "269    50.103734\n",
              "166    49.896266\n",
              "Name: NR_ZONA, dtype: float64"
            ]
          },
          "metadata": {
            "tags": []
          },
          "execution_count": 263
        }
      ]
    },
    {
      "cell_type": "markdown",
      "metadata": {
        "id": "Ao-sVUdmUEDk"
      },
      "source": [
        "A diferença de abstenções entre as duas zonas eleitorais da cidade é muito pequena e portanto irrelevante.\n",
        "\n",
        "---\n",
        "\n"
      ]
    },
    {
      "cell_type": "markdown",
      "metadata": {
        "id": "sWBWl45CUZxI"
      },
      "source": [
        "# Quem trai mais nossa democracia?"
      ]
    },
    {
      "cell_type": "code",
      "metadata": {
        "id": "pmdW2IdwQfID",
        "colab": {
          "base_uri": "https://localhost:8080/"
        },
        "outputId": "ca126ce8-88d2-4310-e64b-c94f72b367d6"
      },
      "source": [
        "# Abstenções por estado civil (2016)\n",
        "\n",
        "abstencao_2016_scs['DS_ESTADO_CIVIL'].value_counts(normalize=True)*100 "
      ],
      "execution_count": null,
      "outputs": [
        {
          "output_type": "execute_result",
          "data": {
            "text/plain": [
              "SOLTEIRO                  28.244681\n",
              "CASADO                    24.893617\n",
              "DIVORCIADO                15.638298\n",
              "VIÚVO                     14.787234\n",
              "SEPARADO JUDICIALMENTE    14.627660\n",
              "NÃO INFORMADO              1.808511\n",
              "Name: DS_ESTADO_CIVIL, dtype: float64"
            ]
          },
          "metadata": {
            "tags": []
          },
          "execution_count": 264
        }
      ]
    },
    {
      "cell_type": "code",
      "metadata": {
        "id": "SQ_I6EytQjrd",
        "colab": {
          "base_uri": "https://localhost:8080/"
        },
        "outputId": "8a3fff38-66c5-455e-89d0-0cf7c08faa18"
      },
      "source": [
        "# Abstenções por estado civil (2018)\n",
        "\n",
        "abstencao_2018_scs['DS_ESTADO_CIVIL'].value_counts(normalize=True)*100 "
      ],
      "execution_count": null,
      "outputs": [
        {
          "output_type": "execute_result",
          "data": {
            "text/plain": [
              "SOLTEIRO                  28.423237\n",
              "CASADO                    25.051867\n",
              "DIVORCIADO                15.819502\n",
              "VIÚVO                     15.404564\n",
              "SEPARADO JUDICIALMENTE    14.107884\n",
              "NÃO INFORMADO              1.192946\n",
              "Name: DS_ESTADO_CIVIL, dtype: float64"
            ]
          },
          "metadata": {
            "tags": []
          },
          "execution_count": 265
        }
      ]
    },
    {
      "cell_type": "markdown",
      "metadata": {
        "id": "5ft0JKqMUy4N"
      },
      "source": [
        "Solteiros traem mais nossa democracia. Em ambos os pleitos, registraram cerca de 28% dos que se abstém a votação.\n",
        "\n",
        "---\n",
        "\n"
      ]
    },
    {
      "cell_type": "markdown",
      "metadata": {
        "id": "eluczGtJUmR8"
      },
      "source": [
        "# Qual a idade das pessoas que se abstém do voto?"
      ]
    },
    {
      "cell_type": "code",
      "metadata": {
        "id": "9Vl6j5OkQrjx",
        "colab": {
          "base_uri": "https://localhost:8080/"
        },
        "outputId": "ebd932a3-1cd2-4ece-963c-ec90fcd03e97"
      },
      "source": [
        "# Qual a idade das pessoas que se abstém do voto? (2016)\n",
        "\n",
        "abstencao_2016_scs['DS_FAIXA_ETARIA'].value_counts(normalize=True)*100 "
      ],
      "execution_count": null,
      "outputs": [
        {
          "output_type": "execute_result",
          "data": {
            "text/plain": [
              "70 a 74 anos        7.978723\n",
              "60 a 64 anos        7.925532\n",
              "65 a 69 anos        7.925532\n",
              "50 a 54 anos        7.659574\n",
              "55 a 59 anos        7.606383\n",
              "45 a 49 anos        7.234043\n",
              "75 a 79 anos        7.234043\n",
              "40 a 44 anos        6.542553\n",
              "80 a 84 anos        6.382979\n",
              "35 a 39 anos        5.585106\n",
              "85 a 89 anos        5.531915\n",
              "30 a 34 anos        5.159574\n",
              "25 a 29 anos        3.882979\n",
              "90 a 94 anos        3.244681\n",
              "21 a 24 anos        2.712766\n",
              "20 anos             1.436170\n",
              "18 anos             1.436170\n",
              "19 anos             1.276596\n",
              "95 a 99 anos        1.170213\n",
              "17 anos             1.063830\n",
              "16 anos             0.744681\n",
              "100 anos ou mais    0.265957\n",
              "Name: DS_FAIXA_ETARIA, dtype: float64"
            ]
          },
          "metadata": {
            "tags": []
          },
          "execution_count": 266
        }
      ]
    },
    {
      "cell_type": "code",
      "metadata": {
        "id": "esu1PMkoRskP",
        "colab": {
          "base_uri": "https://localhost:8080/"
        },
        "outputId": "e67dc0fd-9221-43c5-f669-21d6ff1fb211"
      },
      "source": [
        "# Qual a idade das pessoas que se abstém do voto? (2016)\n",
        "\n",
        "abstencao_2016_scs['DS_FAIXA_ETARIA'].value_counts()"
      ],
      "execution_count": null,
      "outputs": [
        {
          "output_type": "execute_result",
          "data": {
            "text/plain": [
              "70 a 74 anos        150\n",
              "60 a 64 anos        149\n",
              "65 a 69 anos        149\n",
              "50 a 54 anos        144\n",
              "55 a 59 anos        143\n",
              "45 a 49 anos        136\n",
              "75 a 79 anos        136\n",
              "40 a 44 anos        123\n",
              "80 a 84 anos        120\n",
              "35 a 39 anos        105\n",
              "85 a 89 anos        104\n",
              "30 a 34 anos         97\n",
              "25 a 29 anos         73\n",
              "90 a 94 anos         61\n",
              "21 a 24 anos         51\n",
              "20 anos              27\n",
              "18 anos              27\n",
              "19 anos              24\n",
              "95 a 99 anos         22\n",
              "17 anos              20\n",
              "16 anos              14\n",
              "100 anos ou mais      5\n",
              "Name: DS_FAIXA_ETARIA, dtype: int64"
            ]
          },
          "metadata": {
            "tags": []
          },
          "execution_count": 267
        }
      ]
    },
    {
      "cell_type": "code",
      "metadata": {
        "id": "d-tHjz06Q2uB",
        "colab": {
          "base_uri": "https://localhost:8080/"
        },
        "outputId": "ffb1271e-fc61-4d52-d239-133b5710e665"
      },
      "source": [
        "# Qual a idade das pessoas que se abstém do voto? (2018)\n",
        "\n",
        "abstencao_2018_scs['DS_FAIXA_ETARIA'].value_counts(normalize=True)*100 "
      ],
      "execution_count": null,
      "outputs": [
        {
          "output_type": "execute_result",
          "data": {
            "text/plain": [
              "70 a 74 anos        7.883817\n",
              "65 a 69 anos        7.676349\n",
              "55 a 59 anos        7.624481\n",
              "60 a 64 anos        7.520747\n",
              "75 a 79 anos        7.520747\n",
              "50 a 54 anos        7.417012\n",
              "45 a 49 anos        6.898340\n",
              "80 a 84 anos        6.431535\n",
              "40 a 44 anos        6.224066\n",
              "35 a 39 anos        5.549793\n",
              "85 a 89 anos        5.446058\n",
              "30 a 34 anos        4.512448\n",
              "90 a 94 anos        3.890041\n",
              "25 a 29 anos        3.734440\n",
              "21 a 24 anos        2.541494\n",
              "20 anos             1.970954\n",
              "95 a 99 anos        1.919087\n",
              "19 anos             1.452282\n",
              "18 anos             1.452282\n",
              "17 anos             1.141079\n",
              "16 anos             0.778008\n",
              "100 anos ou mais    0.414938\n",
              "Name: DS_FAIXA_ETARIA, dtype: float64"
            ]
          },
          "metadata": {
            "tags": []
          },
          "execution_count": 268
        }
      ]
    },
    {
      "cell_type": "code",
      "metadata": {
        "id": "GoSmwAlDRz6-",
        "colab": {
          "base_uri": "https://localhost:8080/"
        },
        "outputId": "9126a855-295a-4375-b4a3-138dd0ae3a87"
      },
      "source": [
        "# Qual a idade das pessoas que se abstém do voto? (2016)\n",
        "\n",
        "abstencao_2018_scs['DS_FAIXA_ETARIA'].value_counts()"
      ],
      "execution_count": null,
      "outputs": [
        {
          "output_type": "execute_result",
          "data": {
            "text/plain": [
              "70 a 74 anos        304\n",
              "65 a 69 anos        296\n",
              "55 a 59 anos        294\n",
              "60 a 64 anos        290\n",
              "75 a 79 anos        290\n",
              "50 a 54 anos        286\n",
              "45 a 49 anos        266\n",
              "80 a 84 anos        248\n",
              "40 a 44 anos        240\n",
              "35 a 39 anos        214\n",
              "85 a 89 anos        210\n",
              "30 a 34 anos        174\n",
              "90 a 94 anos        150\n",
              "25 a 29 anos        144\n",
              "21 a 24 anos         98\n",
              "20 anos              76\n",
              "95 a 99 anos         74\n",
              "19 anos              56\n",
              "18 anos              56\n",
              "17 anos              44\n",
              "16 anos              30\n",
              "100 anos ou mais     16\n",
              "Name: DS_FAIXA_ETARIA, dtype: int64"
            ]
          },
          "metadata": {
            "tags": []
          },
          "execution_count": 269
        }
      ]
    },
    {
      "cell_type": "markdown",
      "metadata": {
        "id": "CFV7GuXjVe7b"
      },
      "source": [
        "Quando observamos o percentual e números totais de abstenções por faixa etária, verificamos que a distribuição coincide com distribuição etária dos eleitores da cidade, com uma concentração de casos para pessoas entre 40 e 79 anos.\n",
        "\n",
        "---\n",
        "\n"
      ]
    }
  ]
}